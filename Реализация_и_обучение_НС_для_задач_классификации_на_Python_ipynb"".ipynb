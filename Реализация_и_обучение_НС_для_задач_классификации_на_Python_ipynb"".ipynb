{
  "nbformat": 4,
  "nbformat_minor": 0,
  "metadata": {
    "colab": {
      "provenance": [],
      "gpuType": "T4"
    },
    "kernelspec": {
      "name": "python3",
      "display_name": "Python 3"
    },
    "language_info": {
      "name": "python"
    },
    "accelerator": "GPU"
  },
  "cells": [
    {
      "cell_type": "code",
      "execution_count": null,
      "metadata": {
        "colab": {
          "base_uri": "https://localhost:8080/"
        },
        "id": "sVvZGzkJg1Mg",
        "outputId": "aab01b2f-f6e2-4449-e4eb-58b7e3161843"
      },
      "outputs": [
        {
          "output_type": "stream",
          "name": "stdout",
          "text": [
            "Requirement already satisfied: ucimlrepo in /usr/local/lib/python3.10/dist-packages (0.0.3)\n"
          ]
        }
      ],
      "source": [
        "pip install ucimlrepo"
      ]
    },
    {
      "cell_type": "code",
      "source": [
        "from ucimlrepo import fetch_ucirepo\n",
        "\n",
        "# fetch dataset\n",
        "breast_cancer_wisconsin_diagnostic = fetch_ucirepo(id=17)\n",
        "\n",
        "# data (as pandas dataframes)\n",
        "X = breast_cancer_wisconsin_diagnostic.data.features\n",
        "y = breast_cancer_wisconsin_diagnostic.data.targets\n",
        "\n",
        "# metadata\n",
        "print(breast_cancer_wisconsin_diagnostic.metadata)\n",
        "\n",
        "# variable information\n",
        "print(breast_cancer_wisconsin_diagnostic.variables)\n"
      ],
      "metadata": {
        "colab": {
          "base_uri": "https://localhost:8080/"
        },
        "id": "0nuoXDAbhWyJ",
        "outputId": "62923788-a903-43a6-ab3f-87878cf7739b"
      },
      "execution_count": null,
      "outputs": [
        {
          "output_type": "stream",
          "name": "stdout",
          "text": [
            "{'uci_id': 17, 'name': 'Breast Cancer Wisconsin (Diagnostic)', 'repository_url': 'https://archive.ics.uci.edu/dataset/17/breast+cancer+wisconsin+diagnostic', 'data_url': 'https://archive.ics.uci.edu/static/public/17/data.csv', 'abstract': 'Diagnostic Wisconsin Breast Cancer Database.', 'area': 'Health and Medicine', 'tasks': ['Classification'], 'characteristics': ['Multivariate'], 'num_instances': 569, 'num_features': 30, 'feature_types': ['Real'], 'demographics': [], 'target_col': ['Diagnosis'], 'index_col': ['ID'], 'has_missing_values': 'no', 'missing_values_symbol': None, 'year_of_dataset_creation': 1993, 'last_updated': 'Fri Nov 03 2023', 'dataset_doi': '10.24432/C5DW2B', 'creators': ['William Wolberg', 'Olvi Mangasarian', 'Nick Street', 'W. Street'], 'intro_paper': {'title': 'Nuclear feature extraction for breast tumor diagnosis', 'authors': 'W. Street, W. Wolberg, O. Mangasarian', 'published_in': 'Electronic imaging', 'year': 1993, 'url': 'https://www.semanticscholar.org/paper/53f0fbb425bc14468eb3bf96b2e1d41ba8087f36', 'doi': '10.1117/12.148698'}, 'additional_info': {'summary': 'Features are computed from a digitized image of a fine needle aspirate (FNA) of a breast mass.  They describe characteristics of the cell nuclei present in the image. A few of the images can be found at http://www.cs.wisc.edu/~street/images/\\r\\n\\r\\nSeparating plane described above was obtained using Multisurface Method-Tree (MSM-T) [K. P. Bennett, \"Decision Tree Construction Via Linear Programming.\" Proceedings of the 4th Midwest Artificial Intelligence and Cognitive Science Society, pp. 97-101, 1992], a classification method which uses linear programming to construct a decision tree.  Relevant features were selected using an exhaustive search in the space of 1-4 features and 1-3 separating planes.\\r\\n\\r\\nThe actual linear program used to obtain the separating plane in the 3-dimensional space is that described in: [K. P. Bennett and O. L. Mangasarian: \"Robust Linear Programming Discrimination of Two Linearly Inseparable Sets\", Optimization Methods and Software 1, 1992, 23-34].\\r\\n\\r\\nThis database is also available through the UW CS ftp server:\\r\\nftp ftp.cs.wisc.edu\\r\\ncd math-prog/cpo-dataset/machine-learn/WDBC/', 'purpose': None, 'funded_by': None, 'instances_represent': None, 'recommended_data_splits': None, 'sensitive_data': None, 'preprocessing_description': None, 'variable_info': '1) ID number\\r\\n2) Diagnosis (M = malignant, B = benign)\\r\\n3-32)\\r\\n\\r\\nTen real-valued features are computed for each cell nucleus:\\r\\n\\r\\n\\ta) radius (mean of distances from center to points on the perimeter)\\r\\n\\tb) texture (standard deviation of gray-scale values)\\r\\n\\tc) perimeter\\r\\n\\td) area\\r\\n\\te) smoothness (local variation in radius lengths)\\r\\n\\tf) compactness (perimeter^2 / area - 1.0)\\r\\n\\tg) concavity (severity of concave portions of the contour)\\r\\n\\th) concave points (number of concave portions of the contour)\\r\\n\\ti) symmetry \\r\\n\\tj) fractal dimension (\"coastline approximation\" - 1)', 'citation': None}}\n",
            "                  name     role         type demographic description units  \\\n",
            "0                   ID       ID  Categorical        None        None  None   \n",
            "1            Diagnosis   Target  Categorical        None        None  None   \n",
            "2              radius1  Feature   Continuous        None        None  None   \n",
            "3             texture1  Feature   Continuous        None        None  None   \n",
            "4           perimeter1  Feature   Continuous        None        None  None   \n",
            "5                area1  Feature   Continuous        None        None  None   \n",
            "6          smoothness1  Feature   Continuous        None        None  None   \n",
            "7         compactness1  Feature   Continuous        None        None  None   \n",
            "8           concavity1  Feature   Continuous        None        None  None   \n",
            "9      concave_points1  Feature   Continuous        None        None  None   \n",
            "10           symmetry1  Feature   Continuous        None        None  None   \n",
            "11  fractal_dimension1  Feature   Continuous        None        None  None   \n",
            "12             radius2  Feature   Continuous        None        None  None   \n",
            "13            texture2  Feature   Continuous        None        None  None   \n",
            "14          perimeter2  Feature   Continuous        None        None  None   \n",
            "15               area2  Feature   Continuous        None        None  None   \n",
            "16         smoothness2  Feature   Continuous        None        None  None   \n",
            "17        compactness2  Feature   Continuous        None        None  None   \n",
            "18          concavity2  Feature   Continuous        None        None  None   \n",
            "19     concave_points2  Feature   Continuous        None        None  None   \n",
            "20           symmetry2  Feature   Continuous        None        None  None   \n",
            "21  fractal_dimension2  Feature   Continuous        None        None  None   \n",
            "22             radius3  Feature   Continuous        None        None  None   \n",
            "23            texture3  Feature   Continuous        None        None  None   \n",
            "24          perimeter3  Feature   Continuous        None        None  None   \n",
            "25               area3  Feature   Continuous        None        None  None   \n",
            "26         smoothness3  Feature   Continuous        None        None  None   \n",
            "27        compactness3  Feature   Continuous        None        None  None   \n",
            "28          concavity3  Feature   Continuous        None        None  None   \n",
            "29     concave_points3  Feature   Continuous        None        None  None   \n",
            "30           symmetry3  Feature   Continuous        None        None  None   \n",
            "31  fractal_dimension3  Feature   Continuous        None        None  None   \n",
            "\n",
            "   missing_values  \n",
            "0              no  \n",
            "1              no  \n",
            "2              no  \n",
            "3              no  \n",
            "4              no  \n",
            "5              no  \n",
            "6              no  \n",
            "7              no  \n",
            "8              no  \n",
            "9              no  \n",
            "10             no  \n",
            "11             no  \n",
            "12             no  \n",
            "13             no  \n",
            "14             no  \n",
            "15             no  \n",
            "16             no  \n",
            "17             no  \n",
            "18             no  \n",
            "19             no  \n",
            "20             no  \n",
            "21             no  \n",
            "22             no  \n",
            "23             no  \n",
            "24             no  \n",
            "25             no  \n",
            "26             no  \n",
            "27             no  \n",
            "28             no  \n",
            "29             no  \n",
            "30             no  \n",
            "31             no  \n"
          ]
        }
      ]
    },
    {
      "cell_type": "code",
      "source": [
        "from ucimlrepo import fetch_ucirepo"
      ],
      "metadata": {
        "id": "N6yhK0XOhgFI"
      },
      "execution_count": null,
      "outputs": []
    },
    {
      "cell_type": "code",
      "source": [
        "breast_cancer_wisconsin_diagnostic = fetch_ucirepo(id=17)\n",
        "\n",
        "X = breast_cancer_wisconsin_diagnostic.data.features\n",
        "Y = breast_cancer_wisconsin_diagnostic.data.targets"
      ],
      "metadata": {
        "id": "z2DNz4TVh2rC"
      },
      "execution_count": null,
      "outputs": []
    },
    {
      "cell_type": "code",
      "source": [
        "print(breast_cancer_wisconsin_diagnostic.metadata)"
      ],
      "metadata": {
        "colab": {
          "base_uri": "https://localhost:8080/"
        },
        "id": "I4lLVYlBiWwF",
        "outputId": "e4c99ce9-d8ae-4a18-a1c4-c967da6038c9"
      },
      "execution_count": null,
      "outputs": [
        {
          "output_type": "stream",
          "name": "stdout",
          "text": [
            "{'uci_id': 17, 'name': 'Breast Cancer Wisconsin (Diagnostic)', 'repository_url': 'https://archive.ics.uci.edu/dataset/17/breast+cancer+wisconsin+diagnostic', 'data_url': 'https://archive.ics.uci.edu/static/public/17/data.csv', 'abstract': 'Diagnostic Wisconsin Breast Cancer Database.', 'area': 'Health and Medicine', 'tasks': ['Classification'], 'characteristics': ['Multivariate'], 'num_instances': 569, 'num_features': 30, 'feature_types': ['Real'], 'demographics': [], 'target_col': ['Diagnosis'], 'index_col': ['ID'], 'has_missing_values': 'no', 'missing_values_symbol': None, 'year_of_dataset_creation': 1993, 'last_updated': 'Fri Nov 03 2023', 'dataset_doi': '10.24432/C5DW2B', 'creators': ['William Wolberg', 'Olvi Mangasarian', 'Nick Street', 'W. Street'], 'intro_paper': {'title': 'Nuclear feature extraction for breast tumor diagnosis', 'authors': 'W. Street, W. Wolberg, O. Mangasarian', 'published_in': 'Electronic imaging', 'year': 1993, 'url': 'https://www.semanticscholar.org/paper/53f0fbb425bc14468eb3bf96b2e1d41ba8087f36', 'doi': '10.1117/12.148698'}, 'additional_info': {'summary': 'Features are computed from a digitized image of a fine needle aspirate (FNA) of a breast mass.  They describe characteristics of the cell nuclei present in the image. A few of the images can be found at http://www.cs.wisc.edu/~street/images/\\r\\n\\r\\nSeparating plane described above was obtained using Multisurface Method-Tree (MSM-T) [K. P. Bennett, \"Decision Tree Construction Via Linear Programming.\" Proceedings of the 4th Midwest Artificial Intelligence and Cognitive Science Society, pp. 97-101, 1992], a classification method which uses linear programming to construct a decision tree.  Relevant features were selected using an exhaustive search in the space of 1-4 features and 1-3 separating planes.\\r\\n\\r\\nThe actual linear program used to obtain the separating plane in the 3-dimensional space is that described in: [K. P. Bennett and O. L. Mangasarian: \"Robust Linear Programming Discrimination of Two Linearly Inseparable Sets\", Optimization Methods and Software 1, 1992, 23-34].\\r\\n\\r\\nThis database is also available through the UW CS ftp server:\\r\\nftp ftp.cs.wisc.edu\\r\\ncd math-prog/cpo-dataset/machine-learn/WDBC/', 'purpose': None, 'funded_by': None, 'instances_represent': None, 'recommended_data_splits': None, 'sensitive_data': None, 'preprocessing_description': None, 'variable_info': '1) ID number\\r\\n2) Diagnosis (M = malignant, B = benign)\\r\\n3-32)\\r\\n\\r\\nTen real-valued features are computed for each cell nucleus:\\r\\n\\r\\n\\ta) radius (mean of distances from center to points on the perimeter)\\r\\n\\tb) texture (standard deviation of gray-scale values)\\r\\n\\tc) perimeter\\r\\n\\td) area\\r\\n\\te) smoothness (local variation in radius lengths)\\r\\n\\tf) compactness (perimeter^2 / area - 1.0)\\r\\n\\tg) concavity (severity of concave portions of the contour)\\r\\n\\th) concave points (number of concave portions of the contour)\\r\\n\\ti) symmetry \\r\\n\\tj) fractal dimension (\"coastline approximation\" - 1)', 'citation': None}}\n"
          ]
        }
      ]
    },
    {
      "cell_type": "code",
      "source": [
        "print(breast_cancer_wisconsin_diagnostic.variables)"
      ],
      "metadata": {
        "colab": {
          "base_uri": "https://localhost:8080/"
        },
        "id": "I8jhKh3BieRM",
        "outputId": "6319a16d-c176-4bb2-f935-57b8c227eb49"
      },
      "execution_count": null,
      "outputs": [
        {
          "output_type": "stream",
          "name": "stdout",
          "text": [
            "                  name     role         type demographic description units  \\\n",
            "0                   ID       ID  Categorical        None        None  None   \n",
            "1            Diagnosis   Target  Categorical        None        None  None   \n",
            "2              radius1  Feature   Continuous        None        None  None   \n",
            "3             texture1  Feature   Continuous        None        None  None   \n",
            "4           perimeter1  Feature   Continuous        None        None  None   \n",
            "5                area1  Feature   Continuous        None        None  None   \n",
            "6          smoothness1  Feature   Continuous        None        None  None   \n",
            "7         compactness1  Feature   Continuous        None        None  None   \n",
            "8           concavity1  Feature   Continuous        None        None  None   \n",
            "9      concave_points1  Feature   Continuous        None        None  None   \n",
            "10           symmetry1  Feature   Continuous        None        None  None   \n",
            "11  fractal_dimension1  Feature   Continuous        None        None  None   \n",
            "12             radius2  Feature   Continuous        None        None  None   \n",
            "13            texture2  Feature   Continuous        None        None  None   \n",
            "14          perimeter2  Feature   Continuous        None        None  None   \n",
            "15               area2  Feature   Continuous        None        None  None   \n",
            "16         smoothness2  Feature   Continuous        None        None  None   \n",
            "17        compactness2  Feature   Continuous        None        None  None   \n",
            "18          concavity2  Feature   Continuous        None        None  None   \n",
            "19     concave_points2  Feature   Continuous        None        None  None   \n",
            "20           symmetry2  Feature   Continuous        None        None  None   \n",
            "21  fractal_dimension2  Feature   Continuous        None        None  None   \n",
            "22             radius3  Feature   Continuous        None        None  None   \n",
            "23            texture3  Feature   Continuous        None        None  None   \n",
            "24          perimeter3  Feature   Continuous        None        None  None   \n",
            "25               area3  Feature   Continuous        None        None  None   \n",
            "26         smoothness3  Feature   Continuous        None        None  None   \n",
            "27        compactness3  Feature   Continuous        None        None  None   \n",
            "28          concavity3  Feature   Continuous        None        None  None   \n",
            "29     concave_points3  Feature   Continuous        None        None  None   \n",
            "30           symmetry3  Feature   Continuous        None        None  None   \n",
            "31  fractal_dimension3  Feature   Continuous        None        None  None   \n",
            "\n",
            "   missing_values  \n",
            "0              no  \n",
            "1              no  \n",
            "2              no  \n",
            "3              no  \n",
            "4              no  \n",
            "5              no  \n",
            "6              no  \n",
            "7              no  \n",
            "8              no  \n",
            "9              no  \n",
            "10             no  \n",
            "11             no  \n",
            "12             no  \n",
            "13             no  \n",
            "14             no  \n",
            "15             no  \n",
            "16             no  \n",
            "17             no  \n",
            "18             no  \n",
            "19             no  \n",
            "20             no  \n",
            "21             no  \n",
            "22             no  \n",
            "23             no  \n",
            "24             no  \n",
            "25             no  \n",
            "26             no  \n",
            "27             no  \n",
            "28             no  \n",
            "29             no  \n",
            "30             no  \n",
            "31             no  \n"
          ]
        }
      ]
    },
    {
      "cell_type": "markdown",
      "source": [
        "Посмотрим содержимое переменных модели (X, Y).\n",
        "Для работы (просмотр, фильтрация, преобразования, разделения на тренировочные\n",
        "и тестовые и т.д.) с данными X и Y понадобится библиотека pandas"
      ],
      "metadata": {
        "id": "1z0njUi3YA3W"
      }
    },
    {
      "cell_type": "code",
      "source": [
        "import pandas as pd"
      ],
      "metadata": {
        "id": "iUzWByy0ipv0"
      },
      "execution_count": null,
      "outputs": []
    },
    {
      "cell_type": "code",
      "source": [
        "print(X)"
      ],
      "metadata": {
        "colab": {
          "base_uri": "https://localhost:8080/"
        },
        "id": "f8kCbUhYityr",
        "outputId": "51150617-06e1-4c4c-e135-95ec81821893"
      },
      "execution_count": null,
      "outputs": [
        {
          "output_type": "stream",
          "name": "stdout",
          "text": [
            "     radius1  texture1  perimeter1   area1  smoothness1  compactness1  \\\n",
            "0      17.99     10.38      122.80  1001.0      0.11840       0.27760   \n",
            "1      20.57     17.77      132.90  1326.0      0.08474       0.07864   \n",
            "2      19.69     21.25      130.00  1203.0      0.10960       0.15990   \n",
            "3      11.42     20.38       77.58   386.1      0.14250       0.28390   \n",
            "4      20.29     14.34      135.10  1297.0      0.10030       0.13280   \n",
            "..       ...       ...         ...     ...          ...           ...   \n",
            "564    21.56     22.39      142.00  1479.0      0.11100       0.11590   \n",
            "565    20.13     28.25      131.20  1261.0      0.09780       0.10340   \n",
            "566    16.60     28.08      108.30   858.1      0.08455       0.10230   \n",
            "567    20.60     29.33      140.10  1265.0      0.11780       0.27700   \n",
            "568     7.76     24.54       47.92   181.0      0.05263       0.04362   \n",
            "\n",
            "     concavity1  concave_points1  symmetry1  fractal_dimension1  ...  radius3  \\\n",
            "0       0.30010          0.14710     0.2419             0.07871  ...   25.380   \n",
            "1       0.08690          0.07017     0.1812             0.05667  ...   24.990   \n",
            "2       0.19740          0.12790     0.2069             0.05999  ...   23.570   \n",
            "3       0.24140          0.10520     0.2597             0.09744  ...   14.910   \n",
            "4       0.19800          0.10430     0.1809             0.05883  ...   22.540   \n",
            "..          ...              ...        ...                 ...  ...      ...   \n",
            "564     0.24390          0.13890     0.1726             0.05623  ...   25.450   \n",
            "565     0.14400          0.09791     0.1752             0.05533  ...   23.690   \n",
            "566     0.09251          0.05302     0.1590             0.05648  ...   18.980   \n",
            "567     0.35140          0.15200     0.2397             0.07016  ...   25.740   \n",
            "568     0.00000          0.00000     0.1587             0.05884  ...    9.456   \n",
            "\n",
            "     texture3  perimeter3   area3  smoothness3  compactness3  concavity3  \\\n",
            "0       17.33      184.60  2019.0      0.16220       0.66560      0.7119   \n",
            "1       23.41      158.80  1956.0      0.12380       0.18660      0.2416   \n",
            "2       25.53      152.50  1709.0      0.14440       0.42450      0.4504   \n",
            "3       26.50       98.87   567.7      0.20980       0.86630      0.6869   \n",
            "4       16.67      152.20  1575.0      0.13740       0.20500      0.4000   \n",
            "..        ...         ...     ...          ...           ...         ...   \n",
            "564     26.40      166.10  2027.0      0.14100       0.21130      0.4107   \n",
            "565     38.25      155.00  1731.0      0.11660       0.19220      0.3215   \n",
            "566     34.12      126.70  1124.0      0.11390       0.30940      0.3403   \n",
            "567     39.42      184.60  1821.0      0.16500       0.86810      0.9387   \n",
            "568     30.37       59.16   268.6      0.08996       0.06444      0.0000   \n",
            "\n",
            "     concave_points3  symmetry3  fractal_dimension3  \n",
            "0             0.2654     0.4601             0.11890  \n",
            "1             0.1860     0.2750             0.08902  \n",
            "2             0.2430     0.3613             0.08758  \n",
            "3             0.2575     0.6638             0.17300  \n",
            "4             0.1625     0.2364             0.07678  \n",
            "..               ...        ...                 ...  \n",
            "564           0.2216     0.2060             0.07115  \n",
            "565           0.1628     0.2572             0.06637  \n",
            "566           0.1418     0.2218             0.07820  \n",
            "567           0.2650     0.4087             0.12400  \n",
            "568           0.0000     0.2871             0.07039  \n",
            "\n",
            "[569 rows x 30 columns]\n"
          ]
        }
      ]
    },
    {
      "cell_type": "code",
      "source": [
        "print(Y)"
      ],
      "metadata": {
        "colab": {
          "base_uri": "https://localhost:8080/"
        },
        "id": "F5jGbT_lixa7",
        "outputId": "330e918f-f135-4c13-df0f-78eed7f8bad5"
      },
      "execution_count": null,
      "outputs": [
        {
          "output_type": "stream",
          "name": "stdout",
          "text": [
            "    Diagnosis\n",
            "0           M\n",
            "1           M\n",
            "2           M\n",
            "3           M\n",
            "4           M\n",
            "..        ...\n",
            "564         M\n",
            "565         M\n",
            "566         M\n",
            "567         M\n",
            "568         B\n",
            "\n",
            "[569 rows x 1 columns]\n"
          ]
        }
      ]
    },
    {
      "cell_type": "code",
      "source": [
        "Y.loc[Y['Diagnosis']=='M']=0\n",
        "Y.loc[Y['Diagnosis']=='B']=1"
      ],
      "metadata": {
        "colab": {
          "base_uri": "https://localhost:8080/"
        },
        "id": "XLofSzXmi0qP",
        "outputId": "f02ed15b-643f-484e-8547-67c4f5931504"
      },
      "execution_count": null,
      "outputs": [
        {
          "output_type": "stream",
          "name": "stderr",
          "text": [
            "<ipython-input-10-d9fd58854223>:1: SettingWithCopyWarning: \n",
            "A value is trying to be set on a copy of a slice from a DataFrame\n",
            "\n",
            "See the caveats in the documentation: https://pandas.pydata.org/pandas-docs/stable/user_guide/indexing.html#returning-a-view-versus-a-copy\n",
            "  Y.loc[Y['Diagnosis']=='M']=0\n",
            "<ipython-input-10-d9fd58854223>:2: SettingWithCopyWarning: \n",
            "A value is trying to be set on a copy of a slice from a DataFrame\n",
            "\n",
            "See the caveats in the documentation: https://pandas.pydata.org/pandas-docs/stable/user_guide/indexing.html#returning-a-view-versus-a-copy\n",
            "  Y.loc[Y['Diagnosis']=='B']=1\n"
          ]
        }
      ]
    },
    {
      "cell_type": "code",
      "source": [
        "print(Y)"
      ],
      "metadata": {
        "colab": {
          "base_uri": "https://localhost:8080/"
        },
        "id": "ofxC8__FjLUT",
        "outputId": "aa0d19a0-507f-4df1-bb6d-e210ba34d2fe"
      },
      "execution_count": null,
      "outputs": [
        {
          "output_type": "stream",
          "name": "stdout",
          "text": [
            "    Diagnosis\n",
            "0           0\n",
            "1           0\n",
            "2           0\n",
            "3           0\n",
            "4           0\n",
            "..        ...\n",
            "564         0\n",
            "565         0\n",
            "566         0\n",
            "567         0\n",
            "568         1\n",
            "\n",
            "[569 rows x 1 columns]\n"
          ]
        }
      ]
    },
    {
      "cell_type": "markdown",
      "source": [
        "Делим данные на тренировочные и тестовые (используем возможности pandas).\n"
      ],
      "metadata": {
        "id": "R8YjR87OYO-s"
      }
    },
    {
      "cell_type": "code",
      "source": [
        "X_train =X.sample(frac = 0.8, random_state = 0)\n",
        "X_test =X.drop (X_train.index )"
      ],
      "metadata": {
        "id": "lP5SQAWHjwe9"
      },
      "execution_count": null,
      "outputs": []
    },
    {
      "cell_type": "code",
      "source": [
        "Y_train =Y. sample(frac = 0.8 ,random_state = 0)\n",
        "Y_test =Y.drop (Y_train.index )"
      ],
      "metadata": {
        "id": "gTF1tY28kAIx"
      },
      "execution_count": null,
      "outputs": []
    },
    {
      "cell_type": "markdown",
      "source": [
        "Для применения данных для нейросетевого моделирования потребуется их\n",
        "векторизация (получение одномерного вектора-столбца).\n",
        "Векторизуем значения для тренировочных и тестовых данных, используя\n",
        "возможности библиотеки numpy:"
      ],
      "metadata": {
        "id": "Kkv-IaiYYSnU"
      }
    },
    {
      "cell_type": "code",
      "source": [
        "import numpy as np\n",
        "X_train = np.asarray(X_train).astype(np.float32)\n",
        "Y_train = np.asarray(Y_train).astype(np.float32)\n",
        "X_test = np.asarray(X_test).astype(np.float32)\n",
        "Y_test = np.asarray(Y_test).astype(np.float32)"
      ],
      "metadata": {
        "id": "NdEZ1CNHkHFv"
      },
      "execution_count": null,
      "outputs": []
    },
    {
      "cell_type": "code",
      "source": [
        "print(Y_test)"
      ],
      "metadata": {
        "colab": {
          "base_uri": "https://localhost:8080/"
        },
        "id": "hGx4JwlXkkg2",
        "outputId": "a7d28f2f-5c4c-4726-f7c1-7eb58052edf6"
      },
      "execution_count": null,
      "outputs": [
        {
          "output_type": "stream",
          "name": "stdout",
          "text": [
            "[[0.]\n",
            " [0.]\n",
            " [0.]\n",
            " [0.]\n",
            " [0.]\n",
            " [0.]\n",
            " [0.]\n",
            " [0.]\n",
            " [1.]\n",
            " [1.]\n",
            " [0.]\n",
            " [0.]\n",
            " [0.]\n",
            " [1.]\n",
            " [0.]\n",
            " [0.]\n",
            " [0.]\n",
            " [1.]\n",
            " [0.]\n",
            " [0.]\n",
            " [0.]\n",
            " [0.]\n",
            " [1.]\n",
            " [0.]\n",
            " [1.]\n",
            " [0.]\n",
            " [1.]\n",
            " [1.]\n",
            " [1.]\n",
            " [0.]\n",
            " [1.]\n",
            " [1.]\n",
            " [1.]\n",
            " [1.]\n",
            " [1.]\n",
            " [1.]\n",
            " [1.]\n",
            " [0.]\n",
            " [1.]\n",
            " [0.]\n",
            " [1.]\n",
            " [1.]\n",
            " [1.]\n",
            " [0.]\n",
            " [0.]\n",
            " [0.]\n",
            " [0.]\n",
            " [1.]\n",
            " [1.]\n",
            " [1.]\n",
            " [0.]\n",
            " [0.]\n",
            " [0.]\n",
            " [0.]\n",
            " [1.]\n",
            " [1.]\n",
            " [0.]\n",
            " [1.]\n",
            " [1.]\n",
            " [1.]\n",
            " [1.]\n",
            " [1.]\n",
            " [1.]\n",
            " [1.]\n",
            " [0.]\n",
            " [1.]\n",
            " [0.]\n",
            " [1.]\n",
            " [1.]\n",
            " [1.]\n",
            " [0.]\n",
            " [0.]\n",
            " [0.]\n",
            " [0.]\n",
            " [1.]\n",
            " [1.]\n",
            " [1.]\n",
            " [1.]\n",
            " [1.]\n",
            " [1.]\n",
            " [1.]\n",
            " [1.]\n",
            " [1.]\n",
            " [1.]\n",
            " [1.]\n",
            " [1.]\n",
            " [1.]\n",
            " [0.]\n",
            " [1.]\n",
            " [1.]\n",
            " [1.]\n",
            " [0.]\n",
            " [1.]\n",
            " [0.]\n",
            " [1.]\n",
            " [1.]\n",
            " [1.]\n",
            " [1.]\n",
            " [0.]\n",
            " [1.]\n",
            " [1.]\n",
            " [0.]\n",
            " [1.]\n",
            " [1.]\n",
            " [1.]\n",
            " [0.]\n",
            " [1.]\n",
            " [1.]\n",
            " [1.]\n",
            " [1.]\n",
            " [1.]\n",
            " [1.]\n",
            " [1.]\n",
            " [1.]]\n"
          ]
        }
      ]
    },
    {
      "cell_type": "markdown",
      "source": [
        "Разработаем полносвязную нейронную сеть прямого распространения Feedforward\n",
        "neural network, содержащую 4-ре слоя Dense, функции активации relu и sigmoid."
      ],
      "metadata": {
        "id": "9xIbmPQJYbct"
      }
    },
    {
      "cell_type": "code",
      "source": [
        "from keras.models import Sequential\n",
        "from keras.layers import Dense"
      ],
      "metadata": {
        "id": "_l2dj76BksLF"
      },
      "execution_count": null,
      "outputs": []
    },
    {
      "cell_type": "code",
      "source": [
        "classifier = Sequential()\n",
        "classifier.add(Dense(units = 16, activation = 'relu', input_dim = 30))\n",
        "classifier.add(Dense(units = 8, activation = 'relu'))\n",
        "classifier.add(Dense(units = 6, activation = 'relu'))\n",
        "classifier.add(Dense(units = 1, activation = 'sigmoid'))"
      ],
      "metadata": {
        "id": "X1aSEdD-k8xD"
      },
      "execution_count": null,
      "outputs": []
    },
    {
      "cell_type": "markdown",
      "source": [
        "Первый эксперимент проведем, используя оптимизатор класса BinaryCrossentropy и\n",
        "функцию потерь – класса RMSprop"
      ],
      "metadata": {
        "id": "20rpoP1lYfe0"
      }
    },
    {
      "cell_type": "code",
      "source": [
        "classifier.compile(optimizer = 'rmsprop', loss = 'binary_crossentropy')"
      ],
      "metadata": {
        "id": "MoKARo9Tlu-K"
      },
      "execution_count": null,
      "outputs": []
    },
    {
      "cell_type": "markdown",
      "source": [
        "Проведем обучение модели на тренировочных данных, 100 эпох обучения. Зафиксируем\n",
        "ошибку обучения.\n"
      ],
      "metadata": {
        "id": "aEYWeARlYnX1"
      }
    },
    {
      "cell_type": "code",
      "source": [
        "classifier.fit(X_train, Y_train, batch_size = 1, epochs = 100)"
      ],
      "metadata": {
        "colab": {
          "base_uri": "https://localhost:8080/"
        },
        "id": "OhU6_YGTmsfH",
        "outputId": "762e524b-7bd9-4b1f-aa8d-0125fd65f0a8"
      },
      "execution_count": null,
      "outputs": [
        {
          "output_type": "stream",
          "name": "stdout",
          "text": [
            "Epoch 1/100\n",
            "455/455 [==============================] - 4s 5ms/step - loss: 1.8761\n",
            "Epoch 2/100\n",
            "455/455 [==============================] - 4s 8ms/step - loss: 0.5530\n",
            "Epoch 3/100\n",
            "455/455 [==============================] - 3s 6ms/step - loss: 0.5021\n",
            "Epoch 4/100\n",
            "455/455 [==============================] - 3s 6ms/step - loss: 0.4578\n",
            "Epoch 5/100\n",
            "455/455 [==============================] - 3s 6ms/step - loss: 0.4590\n",
            "Epoch 6/100\n",
            "455/455 [==============================] - 4s 8ms/step - loss: 0.4492\n",
            "Epoch 7/100\n",
            "455/455 [==============================] - 5s 11ms/step - loss: 0.4407\n",
            "Epoch 8/100\n",
            "455/455 [==============================] - 5s 11ms/step - loss: 0.4308\n",
            "Epoch 9/100\n",
            "455/455 [==============================] - 4s 9ms/step - loss: 0.4057\n",
            "Epoch 10/100\n",
            "455/455 [==============================] - 3s 6ms/step - loss: 0.3852\n",
            "Epoch 11/100\n",
            "455/455 [==============================] - 2s 4ms/step - loss: 0.4015\n",
            "Epoch 12/100\n",
            "455/455 [==============================] - 3s 6ms/step - loss: 0.3551\n",
            "Epoch 13/100\n",
            "455/455 [==============================] - 3s 6ms/step - loss: 0.3894\n",
            "Epoch 14/100\n",
            "455/455 [==============================] - 2s 5ms/step - loss: 0.3653\n",
            "Epoch 15/100\n",
            "455/455 [==============================] - 1s 3ms/step - loss: 0.3801\n",
            "Epoch 16/100\n",
            "455/455 [==============================] - 1s 3ms/step - loss: 0.3816\n",
            "Epoch 17/100\n",
            "455/455 [==============================] - 1s 3ms/step - loss: 0.4399\n",
            "Epoch 18/100\n",
            "455/455 [==============================] - 1s 3ms/step - loss: 0.3442\n",
            "Epoch 19/100\n",
            "455/455 [==============================] - 1s 3ms/step - loss: 0.3396\n",
            "Epoch 20/100\n",
            "455/455 [==============================] - 2s 3ms/step - loss: 0.3906\n",
            "Epoch 21/100\n",
            "455/455 [==============================] - 2s 4ms/step - loss: 0.4191\n",
            "Epoch 22/100\n",
            "455/455 [==============================] - 2s 4ms/step - loss: 0.3867\n",
            "Epoch 23/100\n",
            "455/455 [==============================] - 1s 3ms/step - loss: 0.4278\n",
            "Epoch 24/100\n",
            "455/455 [==============================] - 1s 3ms/step - loss: 0.3570\n",
            "Epoch 25/100\n",
            "455/455 [==============================] - 1s 3ms/step - loss: 0.3998\n",
            "Epoch 26/100\n",
            "455/455 [==============================] - 1s 3ms/step - loss: 0.4241\n",
            "Epoch 27/100\n",
            "455/455 [==============================] - 1s 3ms/step - loss: 0.3891\n",
            "Epoch 28/100\n",
            "455/455 [==============================] - 1s 3ms/step - loss: 0.3663\n",
            "Epoch 29/100\n",
            "455/455 [==============================] - 1s 3ms/step - loss: 0.3788\n",
            "Epoch 30/100\n",
            "455/455 [==============================] - 1s 3ms/step - loss: 0.3888\n",
            "Epoch 31/100\n",
            "455/455 [==============================] - 2s 4ms/step - loss: 0.3383\n",
            "Epoch 32/100\n",
            "455/455 [==============================] - 2s 4ms/step - loss: 0.3727\n",
            "Epoch 33/100\n",
            "455/455 [==============================] - 2s 4ms/step - loss: 0.3988\n",
            "Epoch 34/100\n",
            "455/455 [==============================] - 2s 5ms/step - loss: 0.3917\n",
            "Epoch 35/100\n",
            "455/455 [==============================] - 2s 4ms/step - loss: 0.3341\n",
            "Epoch 36/100\n",
            "455/455 [==============================] - 1s 3ms/step - loss: 0.3341\n",
            "Epoch 37/100\n",
            "455/455 [==============================] - 1s 3ms/step - loss: 0.3234\n",
            "Epoch 38/100\n",
            "455/455 [==============================] - 1s 3ms/step - loss: 0.3842\n",
            "Epoch 39/100\n",
            "455/455 [==============================] - 2s 3ms/step - loss: 0.3258\n",
            "Epoch 40/100\n",
            "455/455 [==============================] - 2s 4ms/step - loss: 0.3367\n",
            "Epoch 41/100\n",
            "455/455 [==============================] - 2s 4ms/step - loss: 0.3948\n",
            "Epoch 42/100\n",
            "455/455 [==============================] - 1s 3ms/step - loss: 0.4034\n",
            "Epoch 43/100\n",
            "455/455 [==============================] - 1s 3ms/step - loss: 0.3728\n",
            "Epoch 44/100\n",
            "455/455 [==============================] - 1s 3ms/step - loss: 0.3675\n",
            "Epoch 45/100\n",
            "455/455 [==============================] - 1s 3ms/step - loss: 0.3059\n",
            "Epoch 46/100\n",
            "455/455 [==============================] - 1s 3ms/step - loss: 0.3466\n",
            "Epoch 47/100\n",
            "455/455 [==============================] - 1s 3ms/step - loss: 0.3434\n",
            "Epoch 48/100\n",
            "455/455 [==============================] - 1s 3ms/step - loss: 0.3286\n",
            "Epoch 49/100\n",
            "455/455 [==============================] - 1s 3ms/step - loss: 0.3300\n",
            "Epoch 50/100\n",
            "455/455 [==============================] - 2s 4ms/step - loss: 0.3297\n",
            "Epoch 51/100\n",
            "455/455 [==============================] - 2s 4ms/step - loss: 0.3031\n",
            "Epoch 52/100\n",
            "455/455 [==============================] - 2s 3ms/step - loss: 0.3421\n",
            "Epoch 53/100\n",
            "455/455 [==============================] - 1s 3ms/step - loss: 0.3223\n",
            "Epoch 54/100\n",
            "455/455 [==============================] - 1s 3ms/step - loss: 0.3032\n",
            "Epoch 55/100\n",
            "455/455 [==============================] - 1s 3ms/step - loss: 0.3176\n",
            "Epoch 56/100\n",
            "455/455 [==============================] - 2s 4ms/step - loss: 0.3057\n",
            "Epoch 57/100\n",
            "455/455 [==============================] - 2s 5ms/step - loss: 0.3466\n",
            "Epoch 58/100\n",
            "455/455 [==============================] - 1s 3ms/step - loss: 0.3349\n",
            "Epoch 59/100\n",
            "455/455 [==============================] - 2s 4ms/step - loss: 0.3206\n",
            "Epoch 60/100\n",
            "455/455 [==============================] - 2s 4ms/step - loss: 0.3306\n",
            "Epoch 61/100\n",
            "455/455 [==============================] - 2s 4ms/step - loss: 0.2945\n",
            "Epoch 62/100\n",
            "455/455 [==============================] - 1s 3ms/step - loss: 0.3295\n",
            "Epoch 63/100\n",
            "455/455 [==============================] - 1s 3ms/step - loss: 0.3182\n",
            "Epoch 64/100\n",
            "455/455 [==============================] - 1s 3ms/step - loss: 0.3351\n",
            "Epoch 65/100\n",
            "455/455 [==============================] - 1s 3ms/step - loss: 0.3277\n",
            "Epoch 66/100\n",
            "455/455 [==============================] - 1s 3ms/step - loss: 0.3203\n",
            "Epoch 67/100\n",
            "455/455 [==============================] - 1s 3ms/step - loss: 0.3232\n",
            "Epoch 68/100\n",
            "455/455 [==============================] - 1s 3ms/step - loss: 0.3591\n",
            "Epoch 69/100\n",
            "455/455 [==============================] - 2s 3ms/step - loss: 0.2929\n",
            "Epoch 70/100\n",
            "455/455 [==============================] - 2s 5ms/step - loss: 0.3431\n",
            "Epoch 71/100\n",
            "455/455 [==============================] - 2s 4ms/step - loss: 0.2915\n",
            "Epoch 72/100\n",
            "455/455 [==============================] - 1s 3ms/step - loss: 0.2851\n",
            "Epoch 73/100\n",
            "455/455 [==============================] - 1s 3ms/step - loss: 0.3149\n",
            "Epoch 74/100\n",
            "455/455 [==============================] - 1s 3ms/step - loss: 0.3453\n",
            "Epoch 75/100\n",
            "455/455 [==============================] - 1s 3ms/step - loss: 0.2754\n",
            "Epoch 76/100\n",
            "455/455 [==============================] - 1s 3ms/step - loss: 0.2934\n",
            "Epoch 77/100\n",
            "455/455 [==============================] - 1s 3ms/step - loss: 0.3260\n",
            "Epoch 78/100\n",
            "455/455 [==============================] - 2s 4ms/step - loss: 0.2820\n",
            "Epoch 79/100\n",
            "455/455 [==============================] - 3s 7ms/step - loss: 0.2702\n",
            "Epoch 80/100\n",
            "455/455 [==============================] - 2s 4ms/step - loss: 0.3185\n",
            "Epoch 81/100\n",
            "455/455 [==============================] - 1s 3ms/step - loss: 0.3379\n",
            "Epoch 82/100\n",
            "455/455 [==============================] - 1s 3ms/step - loss: 0.3359\n",
            "Epoch 83/100\n",
            "455/455 [==============================] - 1s 3ms/step - loss: 0.2952\n",
            "Epoch 84/100\n",
            "455/455 [==============================] - 1s 3ms/step - loss: 0.3455\n",
            "Epoch 85/100\n",
            "455/455 [==============================] - 1s 3ms/step - loss: 0.3042\n",
            "Epoch 86/100\n",
            "455/455 [==============================] - 1s 3ms/step - loss: 0.2941\n",
            "Epoch 87/100\n",
            "455/455 [==============================] - 1s 3ms/step - loss: 0.2932\n",
            "Epoch 88/100\n",
            "455/455 [==============================] - 1s 3ms/step - loss: 0.3203\n",
            "Epoch 89/100\n",
            "455/455 [==============================] - 2s 4ms/step - loss: 0.3230\n",
            "Epoch 90/100\n",
            "455/455 [==============================] - 2s 4ms/step - loss: 0.2803\n",
            "Epoch 91/100\n",
            "455/455 [==============================] - 2s 4ms/step - loss: 0.3579\n",
            "Epoch 92/100\n",
            "455/455 [==============================] - 1s 3ms/step - loss: 0.3612\n",
            "Epoch 93/100\n",
            "455/455 [==============================] - 1s 3ms/step - loss: 0.3993\n",
            "Epoch 94/100\n",
            "455/455 [==============================] - 1s 3ms/step - loss: 0.3027\n",
            "Epoch 95/100\n",
            "455/455 [==============================] - 1s 3ms/step - loss: 0.3030\n",
            "Epoch 96/100\n",
            "455/455 [==============================] - 1s 3ms/step - loss: 0.3209\n",
            "Epoch 97/100\n",
            "455/455 [==============================] - 1s 3ms/step - loss: 0.4108\n",
            "Epoch 98/100\n",
            "455/455 [==============================] - 1s 3ms/step - loss: 0.3215\n",
            "Epoch 99/100\n",
            "455/455 [==============================] - 2s 4ms/step - loss: 0.3308\n",
            "Epoch 100/100\n",
            "455/455 [==============================] - 3s 6ms/step - loss: 0.3360\n"
          ]
        },
        {
          "output_type": "execute_result",
          "data": {
            "text/plain": [
              "<keras.src.callbacks.History at 0x7ab1dc4f37f0>"
            ]
          },
          "metadata": {},
          "execution_count": 19
        }
      ]
    },
    {
      "cell_type": "markdown",
      "source": [
        "Затраченное время - 1 минута 42 секунды"
      ],
      "metadata": {
        "id": "8MaZwwr7nHVF"
      }
    },
    {
      "cell_type": "markdown",
      "source": [
        "Получим предсказание модели на тестовых данных."
      ],
      "metadata": {
        "id": "Kxy-FqisYquU"
      }
    },
    {
      "cell_type": "code",
      "source": [
        "Y_pred = classifier.predict(X_test)\n",
        "Y_pred = [ 1 if y>=0.5 else 0 for y in Y_pred ]"
      ],
      "metadata": {
        "colab": {
          "base_uri": "https://localhost:8080/"
        },
        "id": "RU00czlunNc2",
        "outputId": "b03b7cb7-3381-4def-a98c-7a85f8d88e87"
      },
      "execution_count": null,
      "outputs": [
        {
          "output_type": "stream",
          "name": "stdout",
          "text": [
            "4/4 [==============================] - 0s 3ms/step\n"
          ]
        }
      ]
    },
    {
      "cell_type": "markdown",
      "source": [
        "Выведем общие результаты проведенного нейросетевого моделирования"
      ],
      "metadata": {
        "id": "459T3K2mYt6T"
      }
    },
    {
      "cell_type": "code",
      "source": [
        "total = 0\n",
        "correct = 0\n",
        "wrong = 0\n",
        "for i in range(len(Y_pred)):\n",
        "  total = total + 1\n",
        "  if(Y_test[i] == Y_pred[i]):\n",
        "    correct = correct + 1\n",
        "  else:\n",
        "    wrong = wrong + 1\n",
        "print(\"Total \" + str(total))\n",
        "print(\"Correct \" + str(correct))\n",
        "print(\"Wrong \" + str(wrong))"
      ],
      "metadata": {
        "colab": {
          "base_uri": "https://localhost:8080/"
        },
        "id": "xAfx16hvnxnI",
        "outputId": "e37c8f4f-19ac-46f6-95d3-2893e46d27c4"
      },
      "execution_count": null,
      "outputs": [
        {
          "output_type": "stream",
          "name": "stdout",
          "text": [
            "Total 114\n",
            "Correct 102\n",
            "Wrong 12\n"
          ]
        }
      ]
    },
    {
      "cell_type": "markdown",
      "source": [
        "Выведем общие результаты проведенного нейросетевого моделирования"
      ],
      "metadata": {
        "id": "WoT-VB61Y0_j"
      }
    },
    {
      "cell_type": "code",
      "source": [
        "print(X_test[10])\n",
        "print(Y_test[10])\n",
        "print(Y_pred[10])"
      ],
      "metadata": {
        "colab": {
          "base_uri": "https://localhost:8080/"
        },
        "id": "gOHWLvh3oeDy",
        "outputId": "b95ae882-a82e-4547-c2d2-b80cd2ee564a"
      },
      "execution_count": null,
      "outputs": [
        {
          "output_type": "stream",
          "name": "stdout",
          "text": [
            "[1.822e+01 1.870e+01 1.203e+02 1.033e+03 1.148e-01 1.485e-01 1.772e-01\n",
            " 1.060e-01 2.092e-01 6.310e-02 8.337e-01 1.593e+00 4.877e+00 9.881e+01\n",
            " 3.899e-03 2.961e-02 2.817e-02 9.222e-03 2.674e-02 5.126e-03 2.060e+01\n",
            " 2.413e+01 1.351e+02 1.321e+03 1.280e-01 2.297e-01 2.623e-01 1.325e-01\n",
            " 3.021e-01 7.987e-02]\n",
            "[0.]\n",
            "1\n"
          ]
        }
      ]
    },
    {
      "cell_type": "markdown",
      "source": [
        " Аналогично выведем для последнего элемента массива тестовых данных."
      ],
      "metadata": {
        "id": "jdoXUwcAY78D"
      }
    },
    {
      "cell_type": "code",
      "source": [
        "print(X_test[113])\n",
        "print(Y_test[113])\n",
        "print(Y_pred[113])"
      ],
      "metadata": {
        "colab": {
          "base_uri": "https://localhost:8080/"
        },
        "id": "RHt0Tyf5okYJ",
        "outputId": "8a2ef4ac-9e02-4c49-9496-9d90f7791eab"
      },
      "execution_count": null,
      "outputs": [
        {
          "output_type": "stream",
          "name": "stdout",
          "text": [
            "[7.760e+00 2.454e+01 4.792e+01 1.810e+02 5.263e-02 4.362e-02 0.000e+00\n",
            " 0.000e+00 1.587e-01 5.884e-02 3.857e-01 1.428e+00 2.548e+00 1.915e+01\n",
            " 7.189e-03 4.660e-03 0.000e+00 0.000e+00 2.676e-02 2.783e-03 9.456e+00\n",
            " 3.037e+01 5.916e+01 2.686e+02 8.996e-02 6.444e-02 0.000e+00 0.000e+00\n",
            " 2.871e-01 7.039e-02]\n",
            "[1.]\n",
            "1\n"
          ]
        }
      ]
    },
    {
      "cell_type": "code",
      "source": [
        "import tensorflow as tf\n",
        "tf.test.gpu_device_name()"
      ],
      "metadata": {
        "colab": {
          "base_uri": "https://localhost:8080/",
          "height": 35
        },
        "id": "Eyk0fS2do0D8",
        "outputId": "8847db79-de6a-4298-eb18-4fc0a138e5a9"
      },
      "execution_count": null,
      "outputs": [
        {
          "output_type": "execute_result",
          "data": {
            "text/plain": [
              "'/device:GPU:0'"
            ],
            "application/vnd.google.colaboratory.intrinsic+json": {
              "type": "string"
            }
          },
          "metadata": {},
          "execution_count": 24
        }
      ]
    },
    {
      "cell_type": "markdown",
      "source": [
        "Затраченное время на второй эксперимент - 3 минуты 41 секунда"
      ],
      "metadata": {
        "id": "LKkmfCFppI6F"
      }
    },
    {
      "cell_type": "markdown",
      "source": [
        "Создадим и обучим ещё не менее 4-6ти нейросетевых моделей\n",
        "(выбор среды выполнения обоснуйте):\n",
        "- с иным количеством слоёв, нейронов в них,\n",
        "- с различным количеством эпох обучения,\n",
        "- с иным методом оптимизации (optimizer, https://keras.io/api/optimizers/),\n",
        "- с иной функцией потерь (loss, https://keras.io/api/losses/).\n",
        "Оценим точность прогнозов, выдаваемых нейросетевыми моделями. Зафиксируем\n",
        "в ноутбуке:\n",
        "- время, затраченное на обучение,\n",
        "- значение функции ошибки и точность прогнозов.\n",
        "Сделайем общие выводы."
      ],
      "metadata": {
        "id": "apmn7fVyZEJK"
      }
    },
    {
      "cell_type": "code",
      "source": [
        "import numpy as np\n",
        "from keras.models import Sequential\n",
        "from keras.layers import Dense\n",
        "\n",
        "X_train = np.random.rand(100, 1)\n",
        "y_train = 2 * X_train + 3 + np.random.normal(0, 0.1, (100, 1))\n",
        "\n",
        "model = Sequential()\n",
        "model.add(Dense(1, input_dim=1))\n",
        "\n",
        "model.compile(optimizer='adam', loss='mean_squared_error')\n",
        "\n",
        "epochs_list = [10, 50, 100]\n",
        "\n",
        "for epochs in epochs_list:\n",
        "    history = model.fit(X_train, y_train, epochs=epochs, verbose=0)\n",
        "    print(f\"Training completed for {epochs} epochs\")\n",
        "\n",
        "    loss = model.evaluate(X_train, y_train, verbose=0)\n",
        "    print(f\"Loss after {epochs} epochs: {loss:.4f}\")"
      ],
      "metadata": {
        "colab": {
          "base_uri": "https://localhost:8080/"
        },
        "id": "QakXCIqnqYCb",
        "outputId": "643f5f80-6115-4328-fee1-07cbcce8646a"
      },
      "execution_count": null,
      "outputs": [
        {
          "output_type": "stream",
          "name": "stdout",
          "text": [
            "Training completed for 10 epochs\n",
            "Loss after 10 epochs: 13.2514\n",
            "Training completed for 50 epochs\n",
            "Loss after 50 epochs: 11.2098\n",
            "Training completed for 100 epochs\n",
            "Loss after 100 epochs: 7.8434\n"
          ]
        }
      ]
    },
    {
      "cell_type": "markdown",
      "source": [
        "с иным количеством слоёв, нейронов"
      ],
      "metadata": {
        "id": "swG4VWxxq7Yw"
      }
    },
    {
      "cell_type": "code",
      "source": [
        "import tensorflow as tf\n",
        "from tensorflow.keras import layers, models\n",
        "import numpy as np\n",
        "\n",
        "model = models.Sequential([\n",
        "    layers.Dense(64, activation='relu', input_shape=(20,)),\n",
        "    layers.Dense(128, activation='relu'),\n",
        "    layers.Dense(10, activation='softmax')\n",
        "])\n",
        "\n",
        "model.compile(optimizer='adam',\n",
        "              loss='sparse_categorical_crossentropy',\n",
        "              metrics=['accuracy'])\n",
        "\n",
        "data = np.random.random((1000, 20))\n",
        "labels = np.random.randint(10, size=(1000,))\n",
        "\n",
        "model.fit(data, labels, epochs=10, batch_size=32)"
      ],
      "metadata": {
        "colab": {
          "base_uri": "https://localhost:8080/"
        },
        "id": "AA7l3vvpqiY7",
        "outputId": "09494445-976f-460f-fd15-728168bb448a"
      },
      "execution_count": null,
      "outputs": [
        {
          "output_type": "stream",
          "name": "stdout",
          "text": [
            "Epoch 1/10\n",
            "32/32 [==============================] - 2s 5ms/step - loss: 2.3185 - accuracy: 0.0900\n",
            "Epoch 2/10\n",
            "32/32 [==============================] - 0s 5ms/step - loss: 2.2951 - accuracy: 0.1350\n",
            "Epoch 3/10\n",
            "32/32 [==============================] - 0s 4ms/step - loss: 2.2835 - accuracy: 0.1360\n",
            "Epoch 4/10\n",
            "32/32 [==============================] - 0s 4ms/step - loss: 2.2756 - accuracy: 0.1630\n",
            "Epoch 5/10\n",
            "32/32 [==============================] - 0s 4ms/step - loss: 2.2646 - accuracy: 0.1590\n",
            "Epoch 6/10\n",
            "32/32 [==============================] - 0s 5ms/step - loss: 2.2545 - accuracy: 0.1720\n",
            "Epoch 7/10\n",
            "32/32 [==============================] - 0s 4ms/step - loss: 2.2433 - accuracy: 0.1810\n",
            "Epoch 8/10\n",
            "32/32 [==============================] - 0s 5ms/step - loss: 2.2341 - accuracy: 0.1890\n",
            "Epoch 9/10\n",
            "32/32 [==============================] - 0s 4ms/step - loss: 2.2240 - accuracy: 0.1950\n",
            "Epoch 10/10\n",
            "32/32 [==============================] - 0s 4ms/step - loss: 2.2126 - accuracy: 0.1950\n"
          ]
        },
        {
          "output_type": "execute_result",
          "data": {
            "text/plain": [
              "<keras.src.callbacks.History at 0x7ab1d00bd840>"
            ]
          },
          "metadata": {},
          "execution_count": 26
        }
      ]
    },
    {
      "cell_type": "markdown",
      "source": [
        "с иным методом оптимизации"
      ],
      "metadata": {
        "id": "o5_KzysBrAI4"
      }
    },
    {
      "cell_type": "code",
      "source": [
        "import tensorflow as tf\n",
        "\n",
        "model = tf.keras.models.Sequential([\n",
        "tf.keras.layers.Dense(64, activation='relu', input_shape=(10,)),\n",
        "tf.keras.layers.Dense(32, activation='relu'),\n",
        "tf.keras.layers.Dense(1, activation='sigmoid')\n",
        "])\n",
        "\n",
        "model.compile(optimizer='adam', loss='binary_crossentropy', metrics=['accuracy'])"
      ],
      "metadata": {
        "id": "X31g5lFTro3W"
      },
      "execution_count": null,
      "outputs": []
    },
    {
      "cell_type": "code",
      "source": [
        "import numpy as np\n",
        "\n",
        "x_train = np.random.random((1000, 10))\n",
        "y_train = np.random.randint(2, size=(1000, 1))"
      ],
      "metadata": {
        "id": "Z4HldvQNrzBe"
      },
      "execution_count": null,
      "outputs": []
    },
    {
      "cell_type": "code",
      "source": [
        "model.fit(x_train, y_train, epochs=10, batch_size=32)"
      ],
      "metadata": {
        "colab": {
          "base_uri": "https://localhost:8080/"
        },
        "id": "7kj195J_r1c_",
        "outputId": "167c5ad4-7525-4516-a249-9dfa643f5411"
      },
      "execution_count": null,
      "outputs": [
        {
          "output_type": "stream",
          "name": "stdout",
          "text": [
            "Epoch 1/10\n",
            "32/32 [==============================] - 1s 3ms/step - loss: 0.6967 - accuracy: 0.5110\n",
            "Epoch 2/10\n",
            "32/32 [==============================] - 0s 4ms/step - loss: 0.6921 - accuracy: 0.5330\n",
            "Epoch 3/10\n",
            "32/32 [==============================] - 0s 3ms/step - loss: 0.6915 - accuracy: 0.5200\n",
            "Epoch 4/10\n",
            "32/32 [==============================] - 0s 3ms/step - loss: 0.6881 - accuracy: 0.5420\n",
            "Epoch 5/10\n",
            "32/32 [==============================] - 0s 3ms/step - loss: 0.6869 - accuracy: 0.5450\n",
            "Epoch 6/10\n",
            "32/32 [==============================] - 0s 4ms/step - loss: 0.6850 - accuracy: 0.5550\n",
            "Epoch 7/10\n",
            "32/32 [==============================] - 0s 4ms/step - loss: 0.6841 - accuracy: 0.5560\n",
            "Epoch 8/10\n",
            "32/32 [==============================] - 0s 3ms/step - loss: 0.6830 - accuracy: 0.5660\n",
            "Epoch 9/10\n",
            "32/32 [==============================] - 0s 4ms/step - loss: 0.6816 - accuracy: 0.5550\n",
            "Epoch 10/10\n",
            "32/32 [==============================] - 0s 4ms/step - loss: 0.6830 - accuracy: 0.5690\n"
          ]
        },
        {
          "output_type": "execute_result",
          "data": {
            "text/plain": [
              "<keras.src.callbacks.History at 0x7ab1d0175930>"
            ]
          },
          "metadata": {},
          "execution_count": 29
        }
      ]
    },
    {
      "cell_type": "markdown",
      "source": [
        "с иной функцией потерь loss"
      ],
      "metadata": {
        "id": "xK2ww_HhsNQK"
      }
    },
    {
      "cell_type": "code",
      "source": [
        "input_layer = tf.keras.layers.Input(shape=(10,))"
      ],
      "metadata": {
        "id": "UkieVVSar_Tf"
      },
      "execution_count": null,
      "outputs": []
    },
    {
      "cell_type": "code",
      "source": [
        "hidden_layer1 = tf.keras.layers.Dense(64, activation='relu')(input_layer)\n",
        "hidden_layer2 = tf.keras.layers.Dense(32, activation='relu')(hidden_layer1)\n",
        "\n",
        "output_layer = tf.keras.layers.Dense(1, activation='sigmoid')(hidden_layer2)\n",
        "\n",
        "model = tf.keras.models.Model(inputs=input_layer, outputs=output_layer)\n",
        "\n",
        "model.compile(optimizer='adam',\n",
        "loss='mean_squared_error',\n",
        "metrics=['accuracy'])"
      ],
      "metadata": {
        "id": "1v1214dzsXbU"
      },
      "execution_count": null,
      "outputs": []
    },
    {
      "cell_type": "code",
      "source": [
        "import numpy as np\n",
        "x_train = np.random.random((1000, 10))\n",
        "y_train = np.random.randint(2, size=(1000, 1))"
      ],
      "metadata": {
        "id": "dPahc8vRsjPe"
      },
      "execution_count": null,
      "outputs": []
    },
    {
      "cell_type": "code",
      "source": [
        "model.fit(x_train, y_train, epochs=10, batch_size=32)"
      ],
      "metadata": {
        "colab": {
          "base_uri": "https://localhost:8080/"
        },
        "id": "CECXHxzjskij",
        "outputId": "ec5a18dd-2352-4074-a14f-4062fc822e82"
      },
      "execution_count": null,
      "outputs": [
        {
          "output_type": "stream",
          "name": "stdout",
          "text": [
            "Epoch 1/10\n",
            "32/32 [==============================] - 1s 3ms/step - loss: 0.2510 - accuracy: 0.5110\n",
            "Epoch 2/10\n",
            "32/32 [==============================] - 0s 3ms/step - loss: 0.2495 - accuracy: 0.5170\n",
            "Epoch 3/10\n",
            "32/32 [==============================] - 0s 3ms/step - loss: 0.2487 - accuracy: 0.5200\n",
            "Epoch 4/10\n",
            "32/32 [==============================] - 0s 3ms/step - loss: 0.2479 - accuracy: 0.5200\n",
            "Epoch 5/10\n",
            "32/32 [==============================] - 0s 4ms/step - loss: 0.2476 - accuracy: 0.5430\n",
            "Epoch 6/10\n",
            "32/32 [==============================] - 0s 3ms/step - loss: 0.2468 - accuracy: 0.5440\n",
            "Epoch 7/10\n",
            "32/32 [==============================] - 0s 3ms/step - loss: 0.2467 - accuracy: 0.5450\n",
            "Epoch 8/10\n",
            "32/32 [==============================] - 0s 3ms/step - loss: 0.2462 - accuracy: 0.5450\n",
            "Epoch 9/10\n",
            "32/32 [==============================] - 0s 3ms/step - loss: 0.2460 - accuracy: 0.5520\n",
            "Epoch 10/10\n",
            "32/32 [==============================] - 0s 3ms/step - loss: 0.2453 - accuracy: 0.5560\n"
          ]
        },
        {
          "output_type": "execute_result",
          "data": {
            "text/plain": [
              "<keras.src.callbacks.History at 0x7ab16e1e9150>"
            ]
          },
          "metadata": {},
          "execution_count": 33
        }
      ]
    },
    {
      "cell_type": "markdown",
      "source": [
        "Вывод:\n",
        "Написанные коды показывают пример создания и обучения простых нейросетевых моделей с разными функциями. При работе с нейросетями нужно учитывать конкретные поставленные задачи, подбирать подходящие параметры, использовать дополнительные методы регуляризации и оптимизации, а также проводить анализ результатов и улучшения моделей для достижения наибольшей эффективности.\n",
        "\n",
        "\n",
        "\n"
      ],
      "metadata": {
        "id": "vm1WO1dOuRN3"
      }
    }
  ]
}