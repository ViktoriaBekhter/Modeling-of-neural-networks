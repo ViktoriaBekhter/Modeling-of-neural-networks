{
  "nbformat": 4,
  "nbformat_minor": 0,
  "metadata": {
    "colab": {
      "provenance": []
    },
    "kernelspec": {
      "name": "python3",
      "display_name": "Python 3"
    },
    "language_info": {
      "name": "python"
    }
  },
  "cells": [
    {
      "cell_type": "code",
      "source": [
        "from google.colab import drive\n",
        "drive.mount('/content/drive')"
      ],
      "metadata": {
        "colab": {
          "base_uri": "https://localhost:8080/"
        },
        "id": "RLwfRkcC89pW",
        "outputId": "920af8a9-3b8d-456a-89f5-882d8fcbba00"
      },
      "execution_count": null,
      "outputs": [
        {
          "output_type": "stream",
          "name": "stdout",
          "text": [
            "Mounted at /content/drive\n"
          ]
        }
      ]
    },
    {
      "cell_type": "markdown",
      "source": [
        "Отключаем вывод предупреждений в проекте."
      ],
      "metadata": {
        "id": "aTJpgUKwgJ9M"
      }
    },
    {
      "cell_type": "code",
      "execution_count": null,
      "metadata": {
        "id": "nsg2U6d1-9qM"
      },
      "outputs": [],
      "source": [
        "import os\n",
        "os.environ['TF_CPP_MIN_LOG_LEVEL'] = '2'"
      ]
    },
    {
      "cell_type": "markdown",
      "source": [
        "Считываем датасет в формате 'utf-8' (для русских букв), обрабатываем его с\n",
        "помощью регулярных выражений (объект re). Оставим в тексте только символы русских\n",
        "букв и символы пробела:\n"
      ],
      "metadata": {
        "id": "jD60cE7mgMv0"
      }
    },
    {
      "cell_type": "code",
      "source": [
        "import re"
      ],
      "metadata": {
        "id": "kAO6cf2b_UOz"
      },
      "execution_count": null,
      "outputs": []
    },
    {
      "cell_type": "code",
      "source": [
        "with open('/content/drive/MyDrive/Colab Notebooks/2.8 лаб/train_data__positive.txt', 'r', encoding='utf-8') as f:\n",
        "    text = f.read()\n",
        "    text = text.replace('\\ufeff', '') # убираем первый невидимый символ\n",
        "    text = re.sub(r'[^А-я ]', '', text) # убираем все недопустимые символы"
      ],
      "metadata": {
        "id": "wjwkisC4_YvN"
      },
      "execution_count": null,
      "outputs": []
    },
    {
      "cell_type": "markdown",
      "source": [
        "Создаем обучающую выборку с помощью инструмента\n",
        "tf.keras.preprocessing.text.Tokenizer - «умный» парсинг (разложение на составляющие\n",
        "элементы) входного текста."
      ],
      "metadata": {
        "id": "l6PGnzAGgPsF"
      }
    },
    {
      "cell_type": "code",
      "source": [
        "num_characters = 34  # 33 буквы + пробел\n",
        "input_chars = 6 # для размера входной строки на предсказание"
      ],
      "metadata": {
        "id": "-6zGrKN5ABlH"
      },
      "execution_count": null,
      "outputs": []
    },
    {
      "cell_type": "code",
      "source": [
        "import tensorflow as tf\n",
        "from tensorflow import keras\n",
        "from keras.preprocessing.text import Tokenizer\n",
        "\n",
        "tokenizer = Tokenizer(num_words=num_characters, char_level=True)\n",
        "#токенизируем на уровне символов\n",
        "tokenizer.fit_on_texts([text])\n",
        "#формируем токены на основе частотности в нашем тексте"
      ],
      "metadata": {
        "id": "48ymzFJ4AE5x"
      },
      "execution_count": null,
      "outputs": []
    },
    {
      "cell_type": "markdown",
      "source": [
        "Выведем полученный словарь символов с порядковым номером на основе\n",
        "загруженного датасета:\n"
      ],
      "metadata": {
        "id": "Mfuk7eEvgSh9"
      }
    },
    {
      "cell_type": "code",
      "source": [
        "print(tokenizer.word_index)"
      ],
      "metadata": {
        "colab": {
          "base_uri": "https://localhost:8080/"
        },
        "id": "WMU6N1CJAJpC",
        "outputId": "ea474b89-ab85-4c79-efda-99fbdb2474c3"
      },
      "execution_count": null,
      "outputs": [
        {
          "output_type": "stream",
          "name": "stdout",
          "text": [
            "{' ': 1, 'о': 2, 'е': 3, 'т': 4, 'и': 5, 'а': 6, 'н': 7, 'с': 8, 'в': 9, 'р': 10, 'м': 11, 'л': 12, 'ь': 13, 'д': 14, 'п': 15, 'у': 16, 'ы': 17, 'з': 18, 'я': 19, 'б': 20, 'ч': 21, 'к': 22, 'й': 23, 'ж': 24, 'г': 25, 'ш': 26, 'х': 27, 'ю': 28, 'ц': 29, 'щ': 30, 'э': 31, 'ф': 32, 'ъ': 33}\n"
          ]
        }
      ]
    },
    {
      "cell_type": "markdown",
      "source": [
        "Преобразуем текст в набор OHE-векторов."
      ],
      "metadata": {
        "id": "RPm_eOrzgWn0"
      }
    },
    {
      "cell_type": "code",
      "source": [
        "data = tokenizer.texts_to_matrix(text)  # преобразуем исходный текст в массив OHE"
      ],
      "metadata": {
        "id": "_wwKU7uZAQIU"
      },
      "execution_count": null,
      "outputs": []
    },
    {
      "cell_type": "code",
      "source": [
        "print(data.shape)"
      ],
      "metadata": {
        "colab": {
          "base_uri": "https://localhost:8080/"
        },
        "id": "kzT6dfrEAUGO",
        "outputId": "06d9beec-db42-48fd-c121-9c82d2265c60"
      },
      "execution_count": null,
      "outputs": [
        {
          "output_type": "stream",
          "name": "stdout",
          "text": [
            "(6307, 34)\n"
          ]
        }
      ]
    },
    {
      "cell_type": "markdown",
      "source": [
        "Далее из этой матрицы сформируем тензор обучающей выборки и\n",
        "соответствующий набор выходных значений.\n",
        "Для начала вычислим размер обучающего множества:"
      ],
      "metadata": {
        "id": "My5bx-CEgaxs"
      }
    },
    {
      "cell_type": "code",
      "source": [
        "n = data.shape[0] - input_chars  # так как мы предсказываем по шести символам - седьмой"
      ],
      "metadata": {
        "id": "eZYXaSo9AWwB"
      },
      "execution_count": null,
      "outputs": []
    },
    {
      "cell_type": "markdown",
      "source": [
        "Сформируем входной тензор и прогнозные значения:"
      ],
      "metadata": {
        "id": "M0HPpHgpgcgx"
      }
    },
    {
      "cell_type": "code",
      "source": [
        "import numpy as np"
      ],
      "metadata": {
        "id": "tWIrpKZjAb96"
      },
      "execution_count": null,
      "outputs": []
    },
    {
      "cell_type": "code",
      "source": [
        "X = np.array([data[i:i + input_chars, :] for i in range(n)])\n",
        "Y = data[input_chars:]  # предсказание следующего символа"
      ],
      "metadata": {
        "id": "Mhdh6zBuAeUR"
      },
      "execution_count": null,
      "outputs": []
    },
    {
      "cell_type": "markdown",
      "source": [
        "Разработаем модель рекуррентной НС\n",
        "Подключаем зависимости в проект, для данной подзадачи"
      ],
      "metadata": {
        "id": "noU5IVE1ggRI"
      }
    },
    {
      "cell_type": "code",
      "source": [
        "from keras.models import Sequential\n",
        "from keras.layers import Input, Dense, SimpleRNN"
      ],
      "metadata": {
        "id": "FJfCQHjMAgzl"
      },
      "execution_count": null,
      "outputs": []
    },
    {
      "cell_type": "markdown",
      "source": [
        "Разрабатываем модель НС"
      ],
      "metadata": {
        "id": "62DSxYobgi6S"
      }
    },
    {
      "cell_type": "code",
      "source": [
        "model = Sequential()\n",
        "#при тренировке в рекуррентные модели keras подается сразу\n",
        "#вся последовательность, поэтому в input два числа: 1-длина последовательности (=6), 2-размер OHE (=34)\n",
        "model.add(Input((input_chars,num_characters)))\n",
        "model.add(SimpleRNN(500, activation='tanh'))  # рекуррентный слой на 500 нейронов\n",
        "model.add(Dense(num_characters, activation='softmax'))\n",
        "model.summary()"
      ],
      "metadata": {
        "colab": {
          "base_uri": "https://localhost:8080/"
        },
        "id": "PB7YwrBCAjGE",
        "outputId": "a52b1c32-d85e-4ff1-e467-934b4686714b"
      },
      "execution_count": null,
      "outputs": [
        {
          "output_type": "stream",
          "name": "stdout",
          "text": [
            "Model: \"sequential\"\n",
            "_________________________________________________________________\n",
            " Layer (type)                Output Shape              Param #   \n",
            "=================================================================\n",
            " simple_rnn (SimpleRNN)      (None, 500)               267500    \n",
            "                                                                 \n",
            " dense (Dense)               (None, 34)                17034     \n",
            "                                                                 \n",
            "=================================================================\n",
            "Total params: 284534 (1.09 MB)\n",
            "Trainable params: 284534 (1.09 MB)\n",
            "Non-trainable params: 0 (0.00 Byte)\n",
            "_________________________________________________________________\n"
          ]
        }
      ]
    },
    {
      "cell_type": "markdown",
      "source": [
        " Компилируем НС."
      ],
      "metadata": {
        "id": "LlGoOik0glHN"
      }
    },
    {
      "cell_type": "code",
      "source": [
        "model.compile(loss='categorical_crossentropy', metrics=['accuracy'],\n",
        "optimizer='adam')"
      ],
      "metadata": {
        "id": "FR0Q6vK1AqPx"
      },
      "execution_count": null,
      "outputs": []
    },
    {
      "cell_type": "markdown",
      "source": [
        "Обучаем НС"
      ],
      "metadata": {
        "id": "dhAWpscwgnhK"
      }
    },
    {
      "cell_type": "code",
      "source": [
        "history = model.fit(X, Y, batch_size=32, epochs=100)"
      ],
      "metadata": {
        "colab": {
          "base_uri": "https://localhost:8080/"
        },
        "id": "FRsvkCCVAtrM",
        "outputId": "b0b9f578-02b0-49b0-ef70-641847e4f8b6"
      },
      "execution_count": null,
      "outputs": [
        {
          "output_type": "stream",
          "name": "stdout",
          "text": [
            "Epoch 1/100\n",
            "197/197 [==============================] - 4s 20ms/step - loss: 0.4758 - accuracy: 0.8627\n",
            "Epoch 2/100\n",
            "197/197 [==============================] - 3s 17ms/step - loss: 0.4687 - accuracy: 0.8610\n",
            "Epoch 3/100\n",
            "197/197 [==============================] - 3s 17ms/step - loss: 0.4902 - accuracy: 0.8568\n",
            "Epoch 4/100\n",
            "197/197 [==============================] - 5s 25ms/step - loss: 0.4622 - accuracy: 0.8608\n",
            "Epoch 5/100\n",
            "197/197 [==============================] - 5s 24ms/step - loss: 0.4366 - accuracy: 0.8741\n",
            "Epoch 6/100\n",
            "197/197 [==============================] - 3s 17ms/step - loss: 0.4470 - accuracy: 0.8692\n",
            "Epoch 7/100\n",
            "197/197 [==============================] - 3s 17ms/step - loss: 0.4388 - accuracy: 0.8718\n",
            "Epoch 8/100\n",
            "197/197 [==============================] - 4s 20ms/step - loss: 0.4598 - accuracy: 0.8635\n",
            "Epoch 9/100\n",
            "197/197 [==============================] - 5s 27ms/step - loss: 0.4452 - accuracy: 0.8702\n",
            "Epoch 10/100\n",
            "197/197 [==============================] - 4s 19ms/step - loss: 0.4423 - accuracy: 0.8711\n",
            "Epoch 11/100\n",
            "197/197 [==============================] - 3s 17ms/step - loss: 0.4347 - accuracy: 0.8743\n",
            "Epoch 12/100\n",
            "197/197 [==============================] - 3s 16ms/step - loss: 0.4440 - accuracy: 0.8686\n",
            "Epoch 13/100\n",
            "197/197 [==============================] - 5s 24ms/step - loss: 0.4435 - accuracy: 0.8676\n",
            "Epoch 14/100\n",
            "197/197 [==============================] - 5s 23ms/step - loss: 0.4371 - accuracy: 0.8689\n",
            "Epoch 15/100\n",
            "197/197 [==============================] - 3s 16ms/step - loss: 0.4491 - accuracy: 0.8627\n",
            "Epoch 16/100\n",
            "197/197 [==============================] - 3s 17ms/step - loss: 0.4195 - accuracy: 0.8741\n",
            "Epoch 17/100\n",
            "197/197 [==============================] - 4s 18ms/step - loss: 0.4188 - accuracy: 0.8749\n",
            "Epoch 18/100\n",
            "197/197 [==============================] - 5s 28ms/step - loss: 0.4047 - accuracy: 0.8753\n",
            "Epoch 19/100\n",
            "197/197 [==============================] - 4s 19ms/step - loss: 0.4168 - accuracy: 0.8783\n",
            "Epoch 20/100\n",
            "197/197 [==============================] - 3s 16ms/step - loss: 0.4199 - accuracy: 0.8749\n",
            "Epoch 21/100\n",
            "197/197 [==============================] - 3s 17ms/step - loss: 0.3981 - accuracy: 0.8786\n",
            "Epoch 22/100\n",
            "197/197 [==============================] - 5s 23ms/step - loss: 0.4100 - accuracy: 0.8792\n",
            "Epoch 23/100\n",
            "197/197 [==============================] - 5s 24ms/step - loss: 0.4077 - accuracy: 0.8784\n",
            "Epoch 24/100\n",
            "197/197 [==============================] - 3s 16ms/step - loss: 0.3960 - accuracy: 0.8811\n",
            "Epoch 25/100\n",
            "197/197 [==============================] - 3s 17ms/step - loss: 0.4044 - accuracy: 0.8783\n",
            "Epoch 26/100\n",
            "197/197 [==============================] - 3s 17ms/step - loss: 0.3980 - accuracy: 0.8799\n",
            "Epoch 27/100\n",
            "197/197 [==============================] - 5s 27ms/step - loss: 0.4171 - accuracy: 0.8726\n",
            "Epoch 28/100\n",
            "197/197 [==============================] - 4s 21ms/step - loss: 0.4238 - accuracy: 0.8737\n",
            "Epoch 29/100\n",
            "197/197 [==============================] - 3s 16ms/step - loss: 0.4100 - accuracy: 0.8753\n",
            "Epoch 30/100\n",
            "197/197 [==============================] - 3s 17ms/step - loss: 0.4128 - accuracy: 0.8787\n",
            "Epoch 31/100\n",
            "197/197 [==============================] - 4s 22ms/step - loss: 0.4132 - accuracy: 0.8751\n",
            "Epoch 32/100\n",
            "197/197 [==============================] - 5s 26ms/step - loss: 0.4023 - accuracy: 0.8803\n",
            "Epoch 33/100\n",
            "197/197 [==============================] - 3s 16ms/step - loss: 0.4044 - accuracy: 0.8781\n",
            "Epoch 34/100\n",
            "197/197 [==============================] - 3s 17ms/step - loss: 0.3971 - accuracy: 0.8824\n",
            "Epoch 35/100\n",
            "197/197 [==============================] - 3s 17ms/step - loss: 0.3917 - accuracy: 0.8810\n",
            "Epoch 36/100\n",
            "197/197 [==============================] - 5s 27ms/step - loss: 0.3768 - accuracy: 0.8835\n",
            "Epoch 37/100\n",
            "197/197 [==============================] - 4s 21ms/step - loss: 0.3693 - accuracy: 0.8894\n",
            "Epoch 38/100\n",
            "197/197 [==============================] - 3s 16ms/step - loss: 0.3642 - accuracy: 0.8876\n",
            "Epoch 39/100\n",
            "197/197 [==============================] - 3s 17ms/step - loss: 0.3915 - accuracy: 0.8818\n",
            "Epoch 40/100\n",
            "197/197 [==============================] - 4s 20ms/step - loss: 0.3921 - accuracy: 0.8800\n",
            "Epoch 41/100\n",
            "197/197 [==============================] - 5s 26ms/step - loss: 0.3914 - accuracy: 0.8800\n",
            "Epoch 42/100\n",
            "197/197 [==============================] - 3s 18ms/step - loss: 0.3950 - accuracy: 0.8786\n",
            "Epoch 43/100\n",
            "197/197 [==============================] - 3s 16ms/step - loss: 0.3810 - accuracy: 0.8845\n",
            "Epoch 44/100\n",
            "197/197 [==============================] - 3s 17ms/step - loss: 0.3789 - accuracy: 0.8807\n",
            "Epoch 45/100\n",
            "197/197 [==============================] - 5s 25ms/step - loss: 0.3785 - accuracy: 0.8876\n",
            "Epoch 46/100\n",
            "197/197 [==============================] - 5s 24ms/step - loss: 0.3753 - accuracy: 0.8835\n",
            "Epoch 47/100\n",
            "197/197 [==============================] - 3s 17ms/step - loss: 0.3609 - accuracy: 0.8859\n",
            "Epoch 48/100\n",
            "197/197 [==============================] - 3s 17ms/step - loss: 0.3832 - accuracy: 0.8821\n",
            "Epoch 49/100\n",
            "197/197 [==============================] - 4s 20ms/step - loss: 0.3721 - accuracy: 0.8841\n",
            "Epoch 50/100\n",
            "197/197 [==============================] - 5s 26ms/step - loss: 0.3678 - accuracy: 0.8891\n",
            "Epoch 51/100\n",
            "197/197 [==============================] - 4s 19ms/step - loss: 0.3656 - accuracy: 0.8851\n",
            "Epoch 52/100\n",
            "197/197 [==============================] - 3s 17ms/step - loss: 0.3712 - accuracy: 0.8803\n",
            "Epoch 53/100\n",
            "197/197 [==============================] - 3s 17ms/step - loss: 0.3623 - accuracy: 0.8840\n",
            "Epoch 54/100\n",
            "197/197 [==============================] - 5s 24ms/step - loss: 0.3738 - accuracy: 0.8875\n",
            "Epoch 55/100\n",
            "197/197 [==============================] - 5s 25ms/step - loss: 0.3648 - accuracy: 0.8859\n",
            "Epoch 56/100\n",
            "197/197 [==============================] - 3s 17ms/step - loss: 0.3592 - accuracy: 0.8870\n",
            "Epoch 57/100\n",
            "197/197 [==============================] - 3s 17ms/step - loss: 0.3591 - accuracy: 0.8860\n",
            "Epoch 58/100\n",
            "197/197 [==============================] - 4s 20ms/step - loss: 0.3523 - accuracy: 0.8921\n",
            "Epoch 59/100\n",
            "197/197 [==============================] - 5s 28ms/step - loss: 0.3534 - accuracy: 0.8853\n",
            "Epoch 60/100\n",
            "197/197 [==============================] - 4s 19ms/step - loss: 0.3571 - accuracy: 0.8859\n",
            "Epoch 61/100\n",
            "197/197 [==============================] - 3s 17ms/step - loss: 0.3655 - accuracy: 0.8849\n",
            "Epoch 62/100\n",
            "197/197 [==============================] - 3s 16ms/step - loss: 0.3662 - accuracy: 0.8846\n",
            "Epoch 63/100\n",
            "197/197 [==============================] - 5s 25ms/step - loss: 0.3474 - accuracy: 0.8892\n",
            "Epoch 64/100\n",
            "197/197 [==============================] - 5s 24ms/step - loss: 0.3616 - accuracy: 0.8849\n",
            "Epoch 65/100\n",
            "197/197 [==============================] - 3s 17ms/step - loss: 0.3564 - accuracy: 0.8862\n",
            "Epoch 66/100\n",
            "197/197 [==============================] - 3s 16ms/step - loss: 0.3650 - accuracy: 0.8865\n",
            "Epoch 67/100\n",
            "197/197 [==============================] - 4s 20ms/step - loss: 0.3512 - accuracy: 0.8873\n",
            "Epoch 68/100\n",
            "197/197 [==============================] - 5s 27ms/step - loss: 0.3598 - accuracy: 0.8857\n",
            "Epoch 69/100\n",
            "197/197 [==============================] - 4s 19ms/step - loss: 0.3534 - accuracy: 0.8862\n",
            "Epoch 70/100\n",
            "197/197 [==============================] - 3s 16ms/step - loss: 0.3520 - accuracy: 0.8873\n",
            "Epoch 71/100\n",
            "197/197 [==============================] - 3s 16ms/step - loss: 0.3537 - accuracy: 0.8891\n",
            "Epoch 72/100\n",
            "197/197 [==============================] - 5s 24ms/step - loss: 0.3674 - accuracy: 0.8799\n",
            "Epoch 73/100\n",
            "197/197 [==============================] - 5s 25ms/step - loss: 0.3518 - accuracy: 0.8856\n",
            "Epoch 74/100\n",
            "197/197 [==============================] - 3s 17ms/step - loss: 0.3446 - accuracy: 0.8907\n",
            "Epoch 75/100\n",
            "197/197 [==============================] - 3s 16ms/step - loss: 0.3528 - accuracy: 0.8800\n",
            "Epoch 76/100\n",
            "197/197 [==============================] - 3s 18ms/step - loss: 0.3493 - accuracy: 0.8892\n",
            "Epoch 77/100\n",
            "197/197 [==============================] - 5s 27ms/step - loss: 0.3581 - accuracy: 0.8860\n",
            "Epoch 78/100\n",
            "197/197 [==============================] - 4s 20ms/step - loss: 0.3428 - accuracy: 0.8916\n",
            "Epoch 79/100\n",
            "197/197 [==============================] - 3s 17ms/step - loss: 0.3454 - accuracy: 0.8900\n",
            "Epoch 80/100\n",
            "197/197 [==============================] - 3s 17ms/step - loss: 0.3448 - accuracy: 0.8876\n",
            "Epoch 81/100\n",
            "197/197 [==============================] - 4s 23ms/step - loss: 0.3363 - accuracy: 0.8940\n",
            "Epoch 82/100\n",
            "197/197 [==============================] - 5s 27ms/step - loss: 0.3351 - accuracy: 0.8932\n",
            "Epoch 83/100\n",
            "197/197 [==============================] - 3s 17ms/step - loss: 0.3278 - accuracy: 0.8914\n",
            "Epoch 84/100\n",
            "197/197 [==============================] - 3s 17ms/step - loss: 0.3246 - accuracy: 0.8956\n",
            "Epoch 85/100\n",
            "197/197 [==============================] - 4s 19ms/step - loss: 0.3377 - accuracy: 0.8862\n",
            "Epoch 86/100\n",
            "197/197 [==============================] - 6s 29ms/step - loss: 0.3727 - accuracy: 0.8805\n",
            "Epoch 87/100\n",
            "197/197 [==============================] - 4s 19ms/step - loss: 0.3838 - accuracy: 0.8753\n",
            "Epoch 88/100\n",
            "197/197 [==============================] - 3s 17ms/step - loss: 0.3804 - accuracy: 0.8770\n",
            "Epoch 89/100\n",
            "197/197 [==============================] - 3s 17ms/step - loss: 0.3732 - accuracy: 0.8805\n",
            "Epoch 90/100\n",
            "197/197 [==============================] - 5s 24ms/step - loss: 0.3553 - accuracy: 0.8864\n",
            "Epoch 91/100\n",
            "197/197 [==============================] - 5s 25ms/step - loss: 0.3397 - accuracy: 0.8884\n",
            "Epoch 92/100\n",
            "197/197 [==============================] - 3s 17ms/step - loss: 0.3258 - accuracy: 0.8937\n",
            "Epoch 93/100\n",
            "197/197 [==============================] - 3s 17ms/step - loss: 0.3208 - accuracy: 0.8932\n",
            "Epoch 94/100\n",
            "197/197 [==============================] - 4s 19ms/step - loss: 0.3071 - accuracy: 0.8975\n",
            "Epoch 95/100\n",
            "197/197 [==============================] - 5s 27ms/step - loss: 0.3157 - accuracy: 0.8935\n",
            "Epoch 96/100\n",
            "197/197 [==============================] - 4s 20ms/step - loss: 0.3219 - accuracy: 0.8914\n",
            "Epoch 97/100\n",
            "197/197 [==============================] - 3s 17ms/step - loss: 0.3236 - accuracy: 0.8922\n",
            "Epoch 98/100\n",
            "197/197 [==============================] - 3s 17ms/step - loss: 0.3410 - accuracy: 0.8880\n",
            "Epoch 99/100\n",
            "197/197 [==============================] - 5s 24ms/step - loss: 0.3593 - accuracy: 0.8835\n",
            "Epoch 100/100\n",
            "197/197 [==============================] - 5s 25ms/step - loss: 0.3473 - accuracy: 0.8870\n"
          ]
        }
      ]
    },
    {
      "cell_type": "code",
      "source": [
        "model.save('model.h5')"
      ],
      "metadata": {
        "colab": {
          "base_uri": "https://localhost:8080/"
        },
        "id": "ULkANpxQD5qH",
        "outputId": "2cdce474-8af2-47df-8a93-d344dd708c1f"
      },
      "execution_count": null,
      "outputs": [
        {
          "output_type": "stream",
          "name": "stderr",
          "text": [
            "/usr/local/lib/python3.10/dist-packages/keras/src/engine/training.py:3079: UserWarning: You are saving your model as an HDF5 file via `model.save()`. This file format is considered legacy. We recommend using instead the native Keras format, e.g. `model.save('my_model.keras')`.\n",
            "  saving_api.save_model(\n"
          ]
        }
      ]
    },
    {
      "cell_type": "markdown",
      "source": [
        " Разработаем вспомогательную функцию для прогнозирования «следующего»\n",
        "символа и добавления его в конец начальной строки"
      ],
      "metadata": {
        "id": "bWF9hJ9Zgq0y"
      }
    },
    {
      "cell_type": "code",
      "source": [
        "def buildPhrase(input_str, str_len=50):\n",
        "    for i in range(str_len):\n",
        "        x = []\n",
        "        for j in range(i, i + input_chars):\n",
        "            x.append(tokenizer.texts_to_matrix(input_str[j]))  # преобразуем символы в One-Hot-encoding\n",
        "\n",
        "        x = np.array(x)\n",
        "        inp = x.reshape(1, input_chars, num_characters)\n",
        "\n",
        "        pred = model.predict(inp)  # предсказываем OHE четвертого символа\n",
        "        d = tokenizer.index_word[pred.argmax(axis=1)[0]]  # получаем ответ в символьном представлении\n",
        "        input_str += d  # дописываем строку\n",
        "\n",
        "    return input_str"
      ],
      "metadata": {
        "id": "Y3ij8qc_AwBc"
      },
      "execution_count": null,
      "outputs": []
    },
    {
      "cell_type": "markdown",
      "source": [
        "Эксперименты\n"
      ],
      "metadata": {
        "id": "l2tAy4CdBjTZ"
      }
    },
    {
      "cell_type": "markdown",
      "source": [
        "1 - Пример из датасета на 6 входных символов «лучший»:"
      ],
      "metadata": {
        "id": "ZDtLVbTQgu8h"
      }
    },
    {
      "cell_type": "code",
      "source": [
        "res = buildPhrase(\"лучший\")\n",
        "print(res)"
      ],
      "metadata": {
        "colab": {
          "base_uri": "https://localhost:8080/"
        },
        "id": "aFdnZ3pyA9mp",
        "outputId": "49d3bc5c-ecc1-4c0d-ab73-4f190fb8421a"
      },
      "execution_count": null,
      "outputs": [
        {
          "output_type": "stream",
          "name": "stdout",
          "text": [
            "1/1 [==============================] - 0s 23ms/step\n",
            "1/1 [==============================] - 0s 23ms/step\n",
            "1/1 [==============================] - 0s 23ms/step\n",
            "1/1 [==============================] - 0s 23ms/step\n",
            "1/1 [==============================] - 0s 23ms/step\n",
            "1/1 [==============================] - 0s 23ms/step\n",
            "1/1 [==============================] - 0s 22ms/step\n",
            "1/1 [==============================] - 0s 24ms/step\n",
            "1/1 [==============================] - 0s 24ms/step\n",
            "1/1 [==============================] - 0s 24ms/step\n",
            "1/1 [==============================] - 0s 25ms/step\n",
            "1/1 [==============================] - 0s 22ms/step\n",
            "1/1 [==============================] - 0s 24ms/step\n",
            "1/1 [==============================] - 0s 24ms/step\n",
            "1/1 [==============================] - 0s 27ms/step\n",
            "1/1 [==============================] - 0s 22ms/step\n",
            "1/1 [==============================] - 0s 23ms/step\n",
            "1/1 [==============================] - 0s 28ms/step\n",
            "1/1 [==============================] - 0s 38ms/step\n",
            "1/1 [==============================] - 0s 37ms/step\n",
            "1/1 [==============================] - 0s 35ms/step\n",
            "1/1 [==============================] - 0s 34ms/step\n",
            "1/1 [==============================] - 0s 31ms/step\n",
            "1/1 [==============================] - 0s 37ms/step\n",
            "1/1 [==============================] - 0s 34ms/step\n",
            "1/1 [==============================] - 0s 45ms/step\n",
            "1/1 [==============================] - 0s 36ms/step\n",
            "1/1 [==============================] - 0s 43ms/step\n",
            "1/1 [==============================] - 0s 37ms/step\n",
            "1/1 [==============================] - 0s 40ms/step\n",
            "1/1 [==============================] - 0s 42ms/step\n",
            "1/1 [==============================] - 0s 37ms/step\n",
            "1/1 [==============================] - 0s 37ms/step\n",
            "1/1 [==============================] - 0s 38ms/step\n",
            "1/1 [==============================] - 0s 34ms/step\n",
            "1/1 [==============================] - 0s 37ms/step\n",
            "1/1 [==============================] - 0s 38ms/step\n",
            "1/1 [==============================] - 0s 48ms/step\n",
            "1/1 [==============================] - 0s 38ms/step\n",
            "1/1 [==============================] - 0s 37ms/step\n",
            "1/1 [==============================] - 0s 35ms/step\n",
            "1/1 [==============================] - 0s 36ms/step\n",
            "1/1 [==============================] - 0s 39ms/step\n",
            "1/1 [==============================] - 0s 37ms/step\n",
            "1/1 [==============================] - 0s 34ms/step\n",
            "1/1 [==============================] - 0s 37ms/step\n",
            "1/1 [==============================] - 0s 42ms/step\n",
            "1/1 [==============================] - 0s 35ms/step\n",
            "1/1 [==============================] - 0s 41ms/step\n",
            "1/1 [==============================] - 0s 34ms/step\n",
            "лучший жизни весну к вашей жизни весну к вашей жизни вес\n"
          ]
        }
      ]
    },
    {
      "cell_type": "markdown",
      "source": [
        "2 - Пример из датасета на 6 входных символов «думайт»:"
      ],
      "metadata": {
        "id": "iUnQ2pAVgxYj"
      }
    },
    {
      "cell_type": "code",
      "source": [
        "res = buildPhrase(\"думайт\") #6 входных символов\n",
        "print(res)"
      ],
      "metadata": {
        "colab": {
          "base_uri": "https://localhost:8080/"
        },
        "id": "CsE2x_6oBOHp",
        "outputId": "d9094b3e-9a71-4ba3-a714-8d62069dab77"
      },
      "execution_count": null,
      "outputs": [
        {
          "output_type": "stream",
          "name": "stdout",
          "text": [
            "1/1 [==============================] - 0s 24ms/step\n",
            "1/1 [==============================] - 0s 24ms/step\n",
            "1/1 [==============================] - 0s 22ms/step\n",
            "1/1 [==============================] - 0s 24ms/step\n",
            "1/1 [==============================] - 0s 21ms/step\n",
            "1/1 [==============================] - 0s 21ms/step\n",
            "1/1 [==============================] - 0s 23ms/step\n",
            "1/1 [==============================] - 0s 22ms/step\n",
            "1/1 [==============================] - 0s 22ms/step\n",
            "1/1 [==============================] - 0s 26ms/step\n",
            "1/1 [==============================] - 0s 25ms/step\n",
            "1/1 [==============================] - 0s 21ms/step\n",
            "1/1 [==============================] - 0s 29ms/step\n",
            "1/1 [==============================] - 0s 25ms/step\n",
            "1/1 [==============================] - 0s 24ms/step\n",
            "1/1 [==============================] - 0s 23ms/step\n",
            "1/1 [==============================] - 0s 22ms/step\n",
            "1/1 [==============================] - 0s 23ms/step\n",
            "1/1 [==============================] - 0s 24ms/step\n",
            "1/1 [==============================] - 0s 26ms/step\n",
            "1/1 [==============================] - 0s 22ms/step\n",
            "1/1 [==============================] - 0s 21ms/step\n",
            "1/1 [==============================] - 0s 22ms/step\n",
            "1/1 [==============================] - 0s 21ms/step\n",
            "1/1 [==============================] - 0s 22ms/step\n",
            "1/1 [==============================] - 0s 24ms/step\n",
            "1/1 [==============================] - 0s 25ms/step\n",
            "1/1 [==============================] - 0s 26ms/step\n",
            "1/1 [==============================] - 0s 24ms/step\n",
            "1/1 [==============================] - 0s 22ms/step\n",
            "1/1 [==============================] - 0s 22ms/step\n",
            "1/1 [==============================] - 0s 21ms/step\n",
            "1/1 [==============================] - 0s 23ms/step\n",
            "1/1 [==============================] - 0s 26ms/step\n",
            "1/1 [==============================] - 0s 23ms/step\n",
            "1/1 [==============================] - 0s 24ms/step\n",
            "1/1 [==============================] - 0s 24ms/step\n",
            "1/1 [==============================] - 0s 22ms/step\n",
            "1/1 [==============================] - 0s 28ms/step\n",
            "1/1 [==============================] - 0s 24ms/step\n",
            "1/1 [==============================] - 0s 22ms/step\n",
            "1/1 [==============================] - 0s 22ms/step\n",
            "1/1 [==============================] - 0s 24ms/step\n",
            "1/1 [==============================] - 0s 22ms/step\n",
            "1/1 [==============================] - 0s 28ms/step\n",
            "1/1 [==============================] - 0s 23ms/step\n",
            "1/1 [==============================] - 0s 22ms/step\n",
            "1/1 [==============================] - 0s 22ms/step\n",
            "1/1 [==============================] - 0s 22ms/step\n",
            "1/1 [==============================] - 0s 22ms/step\n",
            "думайте позитивным мышлением привнести позитивным мышлен\n"
          ]
        }
      ]
    },
    {
      "cell_type": "markdown",
      "source": [
        "3 - Модификация прошлого примера на 7 входных символов «думайтее»:"
      ],
      "metadata": {
        "id": "z60Peo9VgzJC"
      }
    },
    {
      "cell_type": "code",
      "source": [
        "res = buildPhrase(\"думайтее\") #7 входных символов\n",
        "print(res)"
      ],
      "metadata": {
        "colab": {
          "base_uri": "https://localhost:8080/"
        },
        "id": "2gnxnq-mGqVv",
        "outputId": "0cb4e844-e1e8-45bd-d265-f88541b6908c"
      },
      "execution_count": null,
      "outputs": [
        {
          "output_type": "stream",
          "name": "stdout",
          "text": [
            "1/1 [==============================] - 0s 22ms/step\n",
            "1/1 [==============================] - 0s 22ms/step\n",
            "1/1 [==============================] - 0s 22ms/step\n",
            "1/1 [==============================] - 0s 24ms/step\n",
            "1/1 [==============================] - 0s 24ms/step\n",
            "1/1 [==============================] - 0s 22ms/step\n",
            "1/1 [==============================] - 0s 22ms/step\n",
            "1/1 [==============================] - 0s 22ms/step\n",
            "1/1 [==============================] - 0s 25ms/step\n",
            "1/1 [==============================] - 0s 23ms/step\n",
            "1/1 [==============================] - 0s 27ms/step\n",
            "1/1 [==============================] - 0s 22ms/step\n",
            "1/1 [==============================] - 0s 24ms/step\n",
            "1/1 [==============================] - 0s 26ms/step\n",
            "1/1 [==============================] - 0s 22ms/step\n",
            "1/1 [==============================] - 0s 23ms/step\n",
            "1/1 [==============================] - 0s 28ms/step\n",
            "1/1 [==============================] - 0s 23ms/step\n",
            "1/1 [==============================] - 0s 22ms/step\n",
            "1/1 [==============================] - 0s 24ms/step\n",
            "1/1 [==============================] - 0s 22ms/step\n",
            "1/1 [==============================] - 0s 23ms/step\n",
            "1/1 [==============================] - 0s 32ms/step\n",
            "1/1 [==============================] - 0s 25ms/step\n",
            "1/1 [==============================] - 0s 21ms/step\n",
            "1/1 [==============================] - 0s 21ms/step\n",
            "1/1 [==============================] - 0s 22ms/step\n",
            "1/1 [==============================] - 0s 22ms/step\n",
            "1/1 [==============================] - 0s 23ms/step\n",
            "1/1 [==============================] - 0s 22ms/step\n",
            "1/1 [==============================] - 0s 25ms/step\n",
            "1/1 [==============================] - 0s 23ms/step\n",
            "1/1 [==============================] - 0s 23ms/step\n",
            "1/1 [==============================] - 0s 23ms/step\n",
            "1/1 [==============================] - 0s 24ms/step\n",
            "1/1 [==============================] - 0s 24ms/step\n",
            "1/1 [==============================] - 0s 25ms/step\n",
            "1/1 [==============================] - 0s 25ms/step\n",
            "1/1 [==============================] - 0s 24ms/step\n",
            "1/1 [==============================] - 0s 23ms/step\n",
            "1/1 [==============================] - 0s 23ms/step\n",
            "1/1 [==============================] - 0s 22ms/step\n",
            "1/1 [==============================] - 0s 23ms/step\n",
            "1/1 [==============================] - 0s 23ms/step\n",
            "1/1 [==============================] - 0s 21ms/step\n",
            "1/1 [==============================] - 0s 24ms/step\n",
            "1/1 [==============================] - 0s 23ms/step\n",
            "1/1 [==============================] - 0s 21ms/step\n",
            "1/1 [==============================] - 0s 24ms/step\n",
            "1/1 [==============================] - 0s 22ms/step\n",
            "думайтеее   нвсостштриооя   тпбооидттеье н вавпссотелр ьуа\n"
          ]
        }
      ]
    },
    {
      "cell_type": "markdown",
      "source": [
        "4 - Пример из датасета на 6 входных символов «супер »:"
      ],
      "metadata": {
        "id": "wzUAm7RQg2G6"
      }
    },
    {
      "cell_type": "code",
      "source": [
        "res = buildPhrase(\"уникальны\") #10\n",
        "print(res)"
      ],
      "metadata": {
        "colab": {
          "base_uri": "https://localhost:8080/"
        },
        "id": "WHSRcRAdC-e3",
        "outputId": "7ba8fc96-3d59-4475-c48e-cb3fb7afdc1d"
      },
      "execution_count": null,
      "outputs": [
        {
          "output_type": "stream",
          "name": "stdout",
          "text": [
            "1/1 [==============================] - 0s 23ms/step\n",
            "1/1 [==============================] - 0s 24ms/step\n",
            "1/1 [==============================] - 0s 22ms/step\n",
            "1/1 [==============================] - 0s 24ms/step\n",
            "1/1 [==============================] - 0s 21ms/step\n",
            "1/1 [==============================] - 0s 22ms/step\n",
            "1/1 [==============================] - 0s 24ms/step\n",
            "1/1 [==============================] - 0s 25ms/step\n",
            "1/1 [==============================] - 0s 22ms/step\n",
            "1/1 [==============================] - 0s 25ms/step\n",
            "1/1 [==============================] - 0s 25ms/step\n",
            "1/1 [==============================] - 0s 22ms/step\n",
            "1/1 [==============================] - 0s 21ms/step\n",
            "1/1 [==============================] - 0s 34ms/step\n",
            "1/1 [==============================] - 0s 23ms/step\n",
            "1/1 [==============================] - 0s 28ms/step\n",
            "1/1 [==============================] - 0s 23ms/step\n",
            "1/1 [==============================] - 0s 24ms/step\n",
            "1/1 [==============================] - 0s 21ms/step\n",
            "1/1 [==============================] - 0s 21ms/step\n",
            "1/1 [==============================] - 0s 22ms/step\n",
            "1/1 [==============================] - 0s 21ms/step\n",
            "1/1 [==============================] - 0s 23ms/step\n",
            "1/1 [==============================] - 0s 21ms/step\n",
            "1/1 [==============================] - 0s 27ms/step\n",
            "1/1 [==============================] - 0s 27ms/step\n",
            "1/1 [==============================] - 0s 25ms/step\n",
            "1/1 [==============================] - 0s 26ms/step\n",
            "1/1 [==============================] - 0s 22ms/step\n",
            "1/1 [==============================] - 0s 22ms/step\n",
            "1/1 [==============================] - 0s 22ms/step\n",
            "1/1 [==============================] - 0s 25ms/step\n",
            "1/1 [==============================] - 0s 22ms/step\n",
            "1/1 [==============================] - 0s 21ms/step\n",
            "1/1 [==============================] - 0s 26ms/step\n",
            "1/1 [==============================] - 0s 24ms/step\n",
            "1/1 [==============================] - 0s 23ms/step\n",
            "1/1 [==============================] - 0s 22ms/step\n",
            "1/1 [==============================] - 0s 22ms/step\n",
            "1/1 [==============================] - 0s 25ms/step\n",
            "1/1 [==============================] - 0s 21ms/step\n",
            "1/1 [==============================] - 0s 24ms/step\n",
            "1/1 [==============================] - 0s 31ms/step\n",
            "1/1 [==============================] - 0s 22ms/step\n",
            "1/1 [==============================] - 0s 24ms/step\n",
            "1/1 [==============================] - 0s 24ms/step\n",
            "1/1 [==============================] - 0s 22ms/step\n",
            "1/1 [==============================] - 0s 22ms/step\n",
            "1/1 [==============================] - 0s 24ms/step\n",
            "1/1 [==============================] - 0s 23ms/step\n",
            "уникальныьны  ы ввздосяммт  оогпззориититвь ьоеп лтриаоиймт\n"
          ]
        }
      ]
    },
    {
      "cell_type": "markdown",
      "source": [
        "5 - Пример из датасета на 6 входных символов «новый »:"
      ],
      "metadata": {
        "id": "Ns10E3yEg4-a"
      }
    },
    {
      "cell_type": "code",
      "source": [
        "res = buildPhrase(\"супер \")  #6\n",
        "print(res)"
      ],
      "metadata": {
        "colab": {
          "base_uri": "https://localhost:8080/"
        },
        "id": "1fj69F0dDAnU",
        "outputId": "f0b81010-87be-4788-bdda-a90f8eac74d0"
      },
      "execution_count": null,
      "outputs": [
        {
          "output_type": "stream",
          "name": "stdout",
          "text": [
            "1/1 [==============================] - 0s 23ms/step\n",
            "1/1 [==============================] - 0s 22ms/step\n",
            "1/1 [==============================] - 0s 24ms/step\n",
            "1/1 [==============================] - 0s 23ms/step\n",
            "1/1 [==============================] - 0s 21ms/step\n",
            "1/1 [==============================] - 0s 22ms/step\n",
            "1/1 [==============================] - 0s 21ms/step\n",
            "1/1 [==============================] - 0s 21ms/step\n",
            "1/1 [==============================] - 0s 21ms/step\n",
            "1/1 [==============================] - 0s 22ms/step\n",
            "1/1 [==============================] - 0s 24ms/step\n",
            "1/1 [==============================] - 0s 23ms/step\n",
            "1/1 [==============================] - 0s 26ms/step\n",
            "1/1 [==============================] - 0s 22ms/step\n",
            "1/1 [==============================] - 0s 23ms/step\n",
            "1/1 [==============================] - 0s 21ms/step\n",
            "1/1 [==============================] - 0s 25ms/step\n",
            "1/1 [==============================] - 0s 25ms/step\n",
            "1/1 [==============================] - 0s 23ms/step\n",
            "1/1 [==============================] - 0s 25ms/step\n",
            "1/1 [==============================] - 0s 22ms/step\n",
            "1/1 [==============================] - 0s 31ms/step\n",
            "1/1 [==============================] - 0s 22ms/step\n",
            "1/1 [==============================] - 0s 22ms/step\n",
            "1/1 [==============================] - 0s 26ms/step\n",
            "1/1 [==============================] - 0s 24ms/step\n",
            "1/1 [==============================] - 0s 23ms/step\n",
            "1/1 [==============================] - 0s 26ms/step\n",
            "1/1 [==============================] - 0s 21ms/step\n",
            "1/1 [==============================] - 0s 23ms/step\n",
            "1/1 [==============================] - 0s 24ms/step\n",
            "1/1 [==============================] - 0s 21ms/step\n",
            "1/1 [==============================] - 0s 21ms/step\n",
            "1/1 [==============================] - 0s 22ms/step\n",
            "1/1 [==============================] - 0s 22ms/step\n",
            "1/1 [==============================] - 0s 25ms/step\n",
            "1/1 [==============================] - 0s 28ms/step\n",
            "1/1 [==============================] - 0s 22ms/step\n",
            "1/1 [==============================] - 0s 24ms/step\n",
            "1/1 [==============================] - 0s 28ms/step\n",
            "1/1 [==============================] - 0s 21ms/step\n",
            "1/1 [==============================] - 0s 24ms/step\n",
            "1/1 [==============================] - 0s 23ms/step\n",
            "1/1 [==============================] - 0s 24ms/step\n",
            "1/1 [==============================] - 0s 23ms/step\n",
            "1/1 [==============================] - 0s 22ms/step\n",
            "1/1 [==============================] - 0s 22ms/step\n",
            "1/1 [==============================] - 0s 25ms/step\n",
            "1/1 [==============================] - 0s 24ms/step\n",
            "1/1 [==============================] - 0s 22ms/step\n",
            "супер герой твои утренним проблемам помешать вам суждено\n"
          ]
        }
      ]
    }
  ]
}